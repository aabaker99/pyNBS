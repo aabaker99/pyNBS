{
 "cells": [
  {
   "cell_type": "code",
   "execution_count": 1,
   "metadata": {
    "collapsed": false
   },
   "outputs": [],
   "source": [
    "# Import pyNBS modules\n",
    "from pyNBS import data_import_tools as dit\n",
    "from pyNBS import network_propagation as prop\n",
    "from pyNBS import pyNBS_core as core\n",
    "from pyNBS import pyNBS_single\n",
    "from pyNBS import consensus_clustering as cc\n",
    "from pyNBS import pyNBS_plotting as plot\n",
    "\n",
    "# Import other needed packages\n",
    "import os\n",
    "import time\n",
    "import pandas as pd\n",
    "import numpy as np\n",
    "from IPython.display import Image\n",
    "\n",
    "# Import packages needed for measuring clustering similarity\n",
    "from sklearn.metrics.cluster import adjusted_mutual_info_score, adjusted_rand_score\n",
    "import scipy.stats as stats"
   ]
  },
  {
   "cell_type": "markdown",
   "metadata": {},
   "source": [
    "### In this notebook, we will explore how various decisions to use different underlying data or choosing not to execute certain parts of the pyNBS algorithm will affect the final clustering results of the same cohort. We will use the TCGA Bladder Cancer (BLCA) cohort as the example here."
   ]
  },
  {
   "cell_type": "markdown",
   "metadata": {},
   "source": [
    "### Loading the binary somatic mutation data\n",
    "\n",
    "For more examples and definitions in the somatic mutation data file format, please see our Github Wiki page:  \n",
    "https://github.com/huangger/pyNBS/wiki/Somatic-Mutation-Data-File-Format"
   ]
  },
  {
   "cell_type": "code",
   "execution_count": 2,
   "metadata": {
    "collapsed": false
   },
   "outputs": [
    {
     "name": "stdout",
     "output_type": "stream",
     "text": [
      "Binary Mutation Matrix Loaded: ./Supplementary_Notebook_Data/BLCA_sm_data.txt\n"
     ]
    }
   ],
   "source": [
    "sm_data_filepath = './Supplementary_Notebook_Data/BLCA_sm_data.txt'\n",
    "sm_mat = dit.load_binary_mutation_data(sm_data_filepath, filetype='list', delimiter='\\t')"
   ]
  },
  {
   "cell_type": "markdown",
   "metadata": {},
   "source": [
    "# pyNBS on BLCA with Cancer Subnetwork\n",
    "In this section, we will use an abridged version of the example [CancerSubnetwork_BLCA](https://github.com/huangger/pyNBS/blob/master/Examples/CancerSubnetwork_BLCA_pyNBS_Notebook.ipynb) notebook for explinatory purposes, but for subsequent sections, the explanation is generally the same with the changes made to the base agorithm described underneath the header for each new pyNBS execution."
   ]
  },
  {
   "cell_type": "markdown",
   "metadata": {},
   "source": [
    "### Load molecular networks\n",
    "\n",
    "For more examples and definitions in the network file format, please see our Github Wiki page:  \n",
    "https://github.com/huangger/pyNBS/wiki/Molecular-Network-File-Format\n",
    "\n",
    "We will load the Cancer Subnetwork described in the Application Note, a degree-preserved shuffle of the Cancer Subnetwork, and a HUGO Symbol version of the the top 10% of the HumanNet network (aka HM90, used originally to stratify the OV cohort in Hofree et al. 2013). "
   ]
  },
  {
   "cell_type": "code",
   "execution_count": 3,
   "metadata": {
    "collapsed": false
   },
   "outputs": [
    {
     "name": "stdout",
     "output_type": "stream",
     "text": [
      "Network File Loaded: ./Supplementary_Notebook_Data/CancerSubnetwork.txt\n"
     ]
    }
   ],
   "source": [
    "# Load Cancer Specific Network\n",
    "CSN = dit.load_network_file('./Supplementary_Notebook_Data/CancerSubnetwork.txt')"
   ]
  },
  {
   "cell_type": "code",
   "execution_count": 4,
   "metadata": {
    "collapsed": true
   },
   "outputs": [],
   "source": [
    "# Optional: Setting the output directory for files to be saved in\n",
    "outdir = './Supplementary_Notebook_Results/'\n",
    "\n",
    "# Optional: Creating above output directory if it doesn't already exist\n",
    "if not os.path.exists(outdir):\n",
    "    os.makedirs(outdir)\n",
    "    \n",
    "# Optional: Setting a filename prefix for all files saved to outdir\n",
    "job_name = 'BLCA_CSN_base'\n",
    "\n",
    "# Constructs dictionary to be passed as \"save_args\" to functions if output to be saved\n",
    "save_args = {'outdir': outdir, 'job_name': job_name}"
   ]
  },
  {
   "cell_type": "markdown",
   "metadata": {
    "collapsed": false
   },
   "source": [
    "### Construct each regularization graph for use in network-regularized NMF\n",
    "\n",
    "For additional notes on the graph laplacian construction method, please visit our GitHub wiki for this function:\n",
    "https://github.com/huangger/pyNBS/wiki/pyNBS.pyNBS_core.network_inf_KNN_glap"
   ]
  },
  {
   "cell_type": "code",
   "execution_count": 5,
   "metadata": {
    "collapsed": false,
    "scrolled": true
   },
   "outputs": [
    {
     "name": "stdout",
     "output_type": "stream",
     "text": [
      "Graph influence matrix calculated: 17.2321929932 seconds\n",
      "Graph laplacian of KNN network from influence matrix calculated: 41.5760490894 seconds\n"
     ]
    }
   ],
   "source": [
    "# Constructing knnGlap\n",
    "CSN_knnGlap = core.network_inf_KNN_glap(CSN)"
   ]
  },
  {
   "cell_type": "markdown",
   "metadata": {},
   "source": [
    "### Construct network propagation kernel matrix for each network\n",
    "\n",
    "For additional notes on the propagation methods used, please visit our GitHub wiki for this function:\n",
    "https://github.com/huangger/pyNBS/wiki/pyNBS.network_propagation.network_propagation"
   ]
  },
  {
   "cell_type": "code",
   "execution_count": 6,
   "metadata": {
    "collapsed": false
   },
   "outputs": [
    {
     "name": "stdout",
     "output_type": "stream",
     "text": [
      "Performing network propagation with alpha: 0.7\n",
      "Network Propagation Complete: 30.1365771294 seconds\n"
     ]
    }
   ],
   "source": [
    "# We will use the default alpha value for each propagation\n",
    "alpha = 0.7\n",
    "# Construct network propagation kernel for CSN\n",
    "# Construct identity matrix of network\n",
    "CSN_network_nodes = CSN.nodes()\n",
    "CSN_network_I = pd.DataFrame(np.identity(len(CSN_network_nodes)), index=CSN_network_nodes, columns=CSN_network_nodes)\n",
    "CSN_kernel = prop.network_propagation(CSN, CSN_network_I, alpha=alpha, symmetric_norm=False)"
   ]
  },
  {
   "cell_type": "markdown",
   "metadata": {},
   "source": [
    "### Applying the pyNBS Algorithm\n",
    "Here, we will apply the traditional pyNBS algorithm on the BLCA somatic mutation data on each of the networks we have loaded above and generate patient clusters from using these different underlying networks. Some of the subsequent sections may present variations on the original NBS algorithm. The default number of clusters constructed by pyNBS is k=3, but we have observed that k=4 may produce better survival separation, so we use that value for all subsequent pyNBS runs here. We will also use the default number of pyNBS iterations (100) for the subsequent consensus clustering step (if applicable).\n",
    "\n",
    "These functions for each step here are wrapped by the [```NBS_single```](https://github.com/huangger/pyNBS/wiki/pyNBS.pyNBS_single.NBS_single) function, which calls each step above in sequence to perform a single iteration of the pyNBS algorithm."
   ]
  },
  {
   "cell_type": "code",
   "execution_count": 7,
   "metadata": {
    "collapsed": false
   },
   "outputs": [],
   "source": [
    "clusters, niter = 4, 100\n",
    "\n",
    "# Run pyNBS\n",
    "BLCA_CSN_Hlist = []\n",
    "for i in range(niter):\n",
    "    # Run pyNBS core steps and save resulting H matrix to Hlist\n",
    "    BLCA_CSN_Hlist.append(pyNBS_single.NBS_single(sm_mat, CSN_knnGlap, propNet=CSN, propNet_kernel=CSN_kernel, k=clusters))"
   ]
  },
  {
   "cell_type": "markdown",
   "metadata": {},
   "source": [
    "### Consensus Clustering\n",
    "\n",
    "For more information on how the consensus clustering is performed, please see our wiki page on this function:\n",
    "https://github.com/huangger/pyNBS/wiki/pyNBS.consensus_clustering.consensus_hclust_hard"
   ]
  },
  {
   "cell_type": "code",
   "execution_count": 8,
   "metadata": {
    "collapsed": false
   },
   "outputs": [
    {
     "name": "stdout",
     "output_type": "stream",
     "text": [
      "Constructing Hlist: 100 cluster matrices,  393 samples\n",
      "Hlist consensus constructed and sample clusters assigned\n"
     ]
    }
   ],
   "source": [
    "# Consensus Clustering\n",
    "BLCA_CSN_NBS_cc_table, BLCA_CSN_NBS_cc_linkage, BLCA_CSN_NBS_cluster_assign = cc.consensus_hclust_hard(BLCA_CSN_Hlist, k=clusters, **save_args)"
   ]
  },
  {
   "cell_type": "markdown",
   "metadata": {},
   "source": [
    "### Survival analysis\n",
    "\n",
    "Additional details on the survival data file format is also describe on our Github wiki at: \n",
    "https://github.com/huangger/pyNBS/wiki/Patient-Survival-Data-File-Format"
   ]
  },
  {
   "cell_type": "code",
   "execution_count": 11,
   "metadata": {
    "collapsed": true
   },
   "outputs": [],
   "source": [
    "# Load survival Data\n",
    "BLCA_surv_data = './Supplementary_Notebook_Data/BLCA.clin.merged.surv.txt'"
   ]
  },
  {
   "cell_type": "code",
   "execution_count": 12,
   "metadata": {
    "collapsed": false
   },
   "outputs": [
    {
     "name": "stderr",
     "output_type": "stream",
     "text": [
      "/cellar/users/jkhuang/anaconda/lib/python2.7/site-packages/numpy/core/fromnumeric.py:225: FutureWarning: reshape is deprecated and will raise in a subsequent release. Please use .values.reshape(...) instead\n",
      "  return reshape(newshape, order=order)\n"
     ]
    },
    {
     "name": "stdout",
     "output_type": "stream",
     "text": [
      "Multi-Class Log-Rank P: 0.0171822925396\n",
      "Kaplan Meier Plot constructed\n"
     ]
    },
    {
     "data": {
      "image/png": "[encoded data removed]",
      "text/plain": [
       "<IPython.core.display.Image object>"
      ]
     },
     "execution_count": 12,
     "metadata": {
      "image/png": {
       "height": 600,
       "width": 600
      }
     },
     "output_type": "execute_result"
    }
   ],
   "source": [
    "# Plot KM Plot for patient clusters\n",
    "BLCA_CSN_p = plot.cluster_KMplot(BLCA_CSN_NBS_cluster_assign, BLCA_surv_data, delimiter=',', **save_args)\n",
    "Image(filename = save_args['outdir']+save_args['job_name']+'_KM_plot.png', width=600, height=600)"
   ]
  },
  {
   "cell_type": "markdown",
   "metadata": {},
   "source": [
    "# pyNBS on BLCA with shuffled Cancer Subnetwork"
   ]
  },
  {
   "cell_type": "code",
   "execution_count": 13,
   "metadata": {
    "collapsed": false
   },
   "outputs": [
    {
     "name": "stdout",
     "output_type": "stream",
     "text": [
      "Network File Loaded: ./Supplementary_Notebook_Data/CancerSubnetwork.txt\n",
      "Network shuffled: 35.9784321785 seconds. Edge similarity: 0.242290404152\n"
     ]
    }
   ],
   "source": [
    "# Load Shuffled version of Cancer Specific Network\n",
    "CSNshuff = dit.load_network_file('./Supplementary_Notebook_Data/CancerSubnetwork.txt', degree_shuffle=True)"
   ]
  },
  {
   "cell_type": "code",
   "execution_count": 14,
   "metadata": {
    "collapsed": true
   },
   "outputs": [],
   "source": [
    "# Optional: Setting a filename prefix for all files saved to outdir\n",
    "save_args['job_name'] = 'BLCA_CSNshuff'"
   ]
  },
  {
   "cell_type": "code",
   "execution_count": 15,
   "metadata": {
    "collapsed": false
   },
   "outputs": [
    {
     "name": "stdout",
     "output_type": "stream",
     "text": [
      "Graph influence matrix calculated: 8.24634099007 seconds\n",
      "Graph laplacian of KNN network from influence matrix calculated: 19.8859958649 seconds\n"
     ]
    }
   ],
   "source": [
    "# Constructing knnGlap\n",
    "CSNshuff_knnGlap = core.network_inf_KNN_glap(CSNshuff)"
   ]
  },
  {
   "cell_type": "code",
   "execution_count": 16,
   "metadata": {
    "collapsed": false
   },
   "outputs": [
    {
     "name": "stdout",
     "output_type": "stream",
     "text": [
      "Performing network propagation with alpha: 0.7\n",
      "Network Propagation Complete: 9.88462996483 seconds\n"
     ]
    }
   ],
   "source": [
    "# Construct network propagation kernel for CSNshuff\n",
    "# Construct identity matrix of network\n",
    "CSNshuff_network_nodes = CSNshuff.nodes()\n",
    "CSNshuff_network_I = pd.DataFrame(np.identity(len(CSNshuff_network_nodes)), index=CSNshuff_network_nodes, columns=CSNshuff_network_nodes)\n",
    "CSNshuff_kernel = prop.network_propagation(CSNshuff, CSNshuff_network_I, alpha=alpha, symmetric_norm=False)"
   ]
  },
  {
   "cell_type": "code",
   "execution_count": 17,
   "metadata": {
    "collapsed": true
   },
   "outputs": [],
   "source": [
    "clusters, niter = 4, 100\n",
    "\n",
    "# Run pyNBS\n",
    "BLCA_CSNshuff_Hlist = []\n",
    "for i in range(niter):\n",
    "    # Run pyNBS core steps and save resulting H matrix to Hlist\n",
    "    BLCA_CSNshuff_Hlist.append(pyNBS_single.NBS_single(sm_mat, CSNshuff_knnGlap, propNet=CSNshuff, propNet_kernel=CSNshuff_kernel, k=clusters))"
   ]
  },
  {
   "cell_type": "code",
   "execution_count": 18,
   "metadata": {
    "collapsed": false
   },
   "outputs": [
    {
     "name": "stdout",
     "output_type": "stream",
     "text": [
      "Constructing Hlist: 100 cluster matrices,  393 samples\n",
      "Hlist consensus constructed and sample clusters assigned\n"
     ]
    }
   ],
   "source": [
    "# Consensus Clustering\n",
    "BLCA_CSNshuff_NBS_cc_table, BLCA_CSNshuff_NBS_cc_linkage, BLCA_CSNshuff_NBS_cluster_assign = cc.consensus_hclust_hard(BLCA_CSNshuff_Hlist, k=clusters, **save_args)"
   ]
  },
  {
   "cell_type": "code",
   "execution_count": 19,
   "metadata": {
    "collapsed": false
   },
   "outputs": [
    {
     "name": "stdout",
     "output_type": "stream",
     "text": [
      "Multi-Class Log-Rank P: 0.0203974866306\n",
      "Kaplan Meier Plot constructed\n"
     ]
    },
    {
     "data": {
      "image/png": "[encoded data removed]",
      "text/plain": [
       "<IPython.core.display.Image object>"
      ]
     },
     "execution_count": 19,
     "metadata": {
      "image/png": {
       "height": 600,
       "width": 600
      }
     },
     "output_type": "execute_result"
    }
   ],
   "source": [
    "# Plot KM Plot for patient clusters\n",
    "BLCA_CSNshuff_p = plot.cluster_KMplot(BLCA_CSNshuff_NBS_cluster_assign, BLCA_surv_data, delimiter=',', **save_args)\n",
    "Image(filename = save_args['outdir']+save_args['job_name']+'_KM_plot.png', width=600, height=600)"
   ]
  },
  {
   "cell_type": "markdown",
   "metadata": {},
   "source": [
    "### Agreement with BLCA pyNBS results under normal algorithm deployment\n",
    "We now use the similarity techniques when comparing pyNBS results to the original Hofree et al results (see the [```OV```]() or [```UCEC```]() Hofree examples for more details) to compare the results of this pyNBS run to the base BLCA pyNBS results with default values on the cancer subnetwork with k=4."
   ]
  },
  {
   "cell_type": "code",
   "execution_count": 24,
   "metadata": {
    "collapsed": false
   },
   "outputs": [
    {
     "name": "stdout",
     "output_type": "stream",
     "text": [
      "Adjusted Rand Index is: 0.542283926685\n",
      "Adjusted Mutual Info Score is: 0.465056400901\n"
     ]
    }
   ],
   "source": [
    "cc_align = pd.concat([BLCA_CSN_NBS_cluster_assign, BLCA_CSNshuff_NBS_cluster_assign], axis=1).dropna()\n",
    "cc_align.columns = ['Base', 'New']\n",
    "base_clust_assign, new_clust_assign = cc_align['Base'], cc_align['New']\n",
    "adj_rand_index = adjusted_rand_score(base_clust_assign, new_clust_assign)\n",
    "adj_mutual_info_score = adjusted_mutual_info_score(base_clust_assign, new_clust_assign)\n",
    "print 'Adjusted Rand Index is: ' + str(adj_rand_index)\n",
    "print 'Adjusted Mutual Info Score is: ' + str(adj_mutual_info_score)"
   ]
  },
  {
   "cell_type": "code",
   "execution_count": 26,
   "metadata": {
    "collapsed": false
   },
   "outputs": [
    {
     "data": {
      "text/html": [
       "<div>\n",
       "<table border=\"1\" class=\"dataframe\">\n",
       "  <thead>\n",
       "    <tr style=\"text-align: right;\">\n",
       "      <th></th>\n",
       "      <th>New pyNBS Cluster 1</th>\n",
       "      <th>New pyNBS Cluster 2</th>\n",
       "      <th>New pyNBS Cluster 3</th>\n",
       "      <th>New pyNBS Cluster 4</th>\n",
       "    </tr>\n",
       "  </thead>\n",
       "  <tbody>\n",
       "    <tr>\n",
       "      <th>Original pyNBS Cluster 1</th>\n",
       "      <td>55</td>\n",
       "      <td>87</td>\n",
       "      <td>3</td>\n",
       "      <td>5</td>\n",
       "    </tr>\n",
       "    <tr>\n",
       "      <th>Original pyNBS Cluster 2</th>\n",
       "      <td>13</td>\n",
       "      <td>0</td>\n",
       "      <td>0</td>\n",
       "      <td>2</td>\n",
       "    </tr>\n",
       "    <tr>\n",
       "      <th>Original pyNBS Cluster 3</th>\n",
       "      <td>1</td>\n",
       "      <td>1</td>\n",
       "      <td>11</td>\n",
       "      <td>40</td>\n",
       "    </tr>\n",
       "    <tr>\n",
       "      <th>Original pyNBS Cluster 4</th>\n",
       "      <td>8</td>\n",
       "      <td>13</td>\n",
       "      <td>150</td>\n",
       "      <td>4</td>\n",
       "    </tr>\n",
       "  </tbody>\n",
       "</table>\n",
       "</div>"
      ],
      "text/plain": [
       "                          New pyNBS Cluster 1  New pyNBS Cluster 2  \\\n",
       "Original pyNBS Cluster 1                   55                   87   \n",
       "Original pyNBS Cluster 2                   13                    0   \n",
       "Original pyNBS Cluster 3                    1                    1   \n",
       "Original pyNBS Cluster 4                    8                   13   \n",
       "\n",
       "                          New pyNBS Cluster 3  New pyNBS Cluster 4  \n",
       "Original pyNBS Cluster 1                    3                    5  \n",
       "Original pyNBS Cluster 2                    0                    2  \n",
       "Original pyNBS Cluster 3                   11                   40  \n",
       "Original pyNBS Cluster 4                  150                    4  "
      ]
     },
     "execution_count": 26,
     "metadata": {},
     "output_type": "execute_result"
    }
   ],
   "source": [
    "# Construct contingency table for cluster assignments\n",
    "intersect_pats = list(cc_align.index)\n",
    "NBS_cont_table_array = []\n",
    "for i in range(1,clusters+1):    \n",
    "    base_cluster = set(base_clust_assign.ix[intersect_pats][base_clust_assign.ix[intersect_pats]==i].index)\n",
    "    base_pyNBS_cluster_intersect = []\n",
    "    for j in range(1,clusters+1):\n",
    "        new_cluster = set(new_clust_assign.ix[intersect_pats][new_clust_assign.ix[intersect_pats]==j].index)\n",
    "        base_pyNBS_cluster_intersect.append(len(base_cluster.intersection(new_cluster)))\n",
    "    NBS_cont_table_array.append(base_pyNBS_cluster_intersect)\n",
    "    \n",
    "# Display contingency table\n",
    "pd.DataFrame(NBS_cont_table_array, \n",
    "             index=['Original pyNBS Cluster '+repr(i) for i in range(1, clusters+1)],\n",
    "             columns=['New pyNBS Cluster '+repr(i) for i in range(1, clusters+1)])"
   ]
  },
  {
   "cell_type": "code",
   "execution_count": 27,
   "metadata": {
    "collapsed": false
   },
   "outputs": [
    {
     "name": "stdout",
     "output_type": "stream",
     "text": [
      "Chi-Squared Statistic: 519.960671443\n",
      "Chi-Squared P-Value: 3.05130620165e-106\n"
     ]
    }
   ],
   "source": [
    "# Calculate p-value and chi-squared statistic:\n",
    "chi_sq_test = stats.chi2_contingency(NBS_cont_table_array, correction=False)\n",
    "print 'Chi-Squared Statistic:', chi_sq_test[0]\n",
    "print 'Chi-Squared P-Value:', chi_sq_test[1]"
   ]
  },
  {
   "cell_type": "markdown",
   "metadata": {},
   "source": [
    "# pyNBS on BLCA with HM90"
   ]
  },
  {
   "cell_type": "code",
   "execution_count": 28,
   "metadata": {
    "collapsed": false
   },
   "outputs": [
    {
     "name": "stdout",
     "output_type": "stream",
     "text": [
      "Network File Loaded: ./Supplementary_Notebook_Data/HumanNet90_Symbol.txt\n"
     ]
    }
   ],
   "source": [
    "# Load top 10% of edges from HumanNet and convert those edges to HUGO Symbol\n",
    "HM90 = dit.load_network_file('./Supplementary_Notebook_Data/HumanNet90_Symbol.txt')"
   ]
  },
  {
   "cell_type": "markdown",
   "metadata": {},
   "source": [
    "To perform the gene name conversions described for HM90, we used our [```gene_conversion_tools```](https://github.com/huangger/pyNBS/wiki/pyNBS.gene_conversion_tools) module in pyNBS."
   ]
  },
  {
   "cell_type": "code",
   "execution_count": 29,
   "metadata": {
    "collapsed": true
   },
   "outputs": [],
   "source": [
    "# Optional: Setting a filename prefix for all files saved to outdir\n",
    "save_args['job_name'] = 'BLCA_HM90'"
   ]
  },
  {
   "cell_type": "code",
   "execution_count": 30,
   "metadata": {
    "collapsed": false
   },
   "outputs": [
    {
     "name": "stdout",
     "output_type": "stream",
     "text": [
      "Graph influence matrix calculated: 24.9255619049 seconds\n",
      "Graph laplacian of KNN network from influence matrix calculated: 41.1901218891 seconds\n"
     ]
    }
   ],
   "source": [
    "# Constructing knnGlap\n",
    "HM90_knnGlap = core.network_inf_KNN_glap(HM90)"
   ]
  },
  {
   "cell_type": "code",
   "execution_count": 31,
   "metadata": {
    "collapsed": false
   },
   "outputs": [
    {
     "name": "stdout",
     "output_type": "stream",
     "text": [
      "Performing network propagation with alpha: 0.7\n",
      "Network Propagation Complete: 110.508474112 seconds\n"
     ]
    }
   ],
   "source": [
    "# Construct network propagation kernel for HM90\n",
    "# Construct identity matrix of network\n",
    "HM90_network_nodes = HM90.nodes()\n",
    "HM90_network_I = pd.DataFrame(np.identity(len(HM90_network_nodes)), index=HM90_network_nodes, columns=HM90_network_nodes)\n",
    "HM90_kernel = prop.network_propagation(HM90, HM90_network_I, alpha=alpha, symmetric_norm=False)"
   ]
  },
  {
   "cell_type": "code",
   "execution_count": 32,
   "metadata": {
    "collapsed": false
   },
   "outputs": [],
   "source": [
    "clusters, niter = 4, 100\n",
    "\n",
    "# Run pyNBS\n",
    "BLCA_HM90_Hlist = []\n",
    "for i in range(niter):\n",
    "    # Run pyNBS core steps and save resulting H matrix to Hlist\n",
    "    BLCA_HM90_Hlist.append(pyNBS_single.NBS_single(sm_mat, HM90_knnGlap, propNet=HM90, propNet_kernel=HM90_kernel, k=clusters))"
   ]
  },
  {
   "cell_type": "code",
   "execution_count": 33,
   "metadata": {
    "collapsed": false
   },
   "outputs": [
    {
     "name": "stdout",
     "output_type": "stream",
     "text": [
      "Constructing Hlist: 100 cluster matrices,  393 samples\n",
      "Hlist consensus constructed and sample clusters assigned\n"
     ]
    }
   ],
   "source": [
    "# Consensus Clustering\n",
    "BLCA_HM90_NBS_cc_table, BLCA_HM90_NBS_cc_linkage, BLCA_HM90_NBS_cluster_assign = cc.consensus_hclust_hard(BLCA_HM90_Hlist, k=clusters, **save_args)"
   ]
  },
  {
   "cell_type": "code",
   "execution_count": 34,
   "metadata": {
    "collapsed": false
   },
   "outputs": [
    {
     "name": "stdout",
     "output_type": "stream",
     "text": [
      "Multi-Class Log-Rank P: 0.251391361414\n",
      "Kaplan Meier Plot constructed\n"
     ]
    },
    {
     "data": {
      "image/png": "[encoded data removed]",
      "text/plain": [
       "<IPython.core.display.Image object>"
      ]
     },
     "execution_count": 34,
     "metadata": {
      "image/png": {
       "height": 600,
       "width": 600
      }
     },
     "output_type": "execute_result"
    }
   ],
   "source": [
    "# Plot KM Plot for patient clusters\n",
    "BLCA_HM90_p = plot.cluster_KMplot(BLCA_HM90_NBS_cluster_assign, BLCA_surv_data, delimiter=',', **save_args)\n",
    "Image(filename = save_args['outdir']+save_args['job_name']+'_KM_plot.png', width=600, height=600)"
   ]
  },
  {
   "cell_type": "markdown",
   "metadata": {},
   "source": [
    "### Agreement with BLCA pyNBS results under normal algorithm deployment\n",
    "We now use the similarity techniques when comparing pyNBS results to the original Hofree et al results (see the [```OV```]() or [```UCEC```]() Hofree examples for more details) to compare the results of this pyNBS run to the base BLCA pyNBS results with default values on the cancer subnetwork with k=4."
   ]
  },
  {
   "cell_type": "code",
   "execution_count": 35,
   "metadata": {
    "collapsed": false
   },
   "outputs": [
    {
     "name": "stdout",
     "output_type": "stream",
     "text": [
      "Adjusted Rand Index is: 0.180135854289\n",
      "Adjusted Mutual Info Score is: 0.176043566375\n"
     ]
    }
   ],
   "source": [
    "cc_align = pd.concat([BLCA_CSN_NBS_cluster_assign, BLCA_HM90_NBS_cluster_assign], axis=1).dropna()\n",
    "cc_align.columns = ['Base', 'New']\n",
    "base_clust_assign, new_clust_assign = cc_align['Base'], cc_align['New']\n",
    "adj_rand_index = adjusted_rand_score(base_clust_assign, new_clust_assign)\n",
    "adj_mutual_info_score = adjusted_mutual_info_score(base_clust_assign, new_clust_assign)\n",
    "print 'Adjusted Rand Index is: ' + str(adj_rand_index)\n",
    "print 'Adjusted Mutual Info Score is: ' + str(adj_mutual_info_score)"
   ]
  },
  {
   "cell_type": "code",
   "execution_count": 36,
   "metadata": {
    "collapsed": false
   },
   "outputs": [
    {
     "data": {
      "text/html": [
       "<div>\n",
       "<table border=\"1\" class=\"dataframe\">\n",
       "  <thead>\n",
       "    <tr style=\"text-align: right;\">\n",
       "      <th></th>\n",
       "      <th>New pyNBS Cluster 1</th>\n",
       "      <th>New pyNBS Cluster 2</th>\n",
       "      <th>New pyNBS Cluster 3</th>\n",
       "      <th>New pyNBS Cluster 4</th>\n",
       "    </tr>\n",
       "  </thead>\n",
       "  <tbody>\n",
       "    <tr>\n",
       "      <th>Original pyNBS Cluster 1</th>\n",
       "      <td>84</td>\n",
       "      <td>18</td>\n",
       "      <td>15</td>\n",
       "      <td>33</td>\n",
       "    </tr>\n",
       "    <tr>\n",
       "      <th>Original pyNBS Cluster 2</th>\n",
       "      <td>0</td>\n",
       "      <td>2</td>\n",
       "      <td>3</td>\n",
       "      <td>10</td>\n",
       "    </tr>\n",
       "    <tr>\n",
       "      <th>Original pyNBS Cluster 3</th>\n",
       "      <td>4</td>\n",
       "      <td>6</td>\n",
       "      <td>7</td>\n",
       "      <td>36</td>\n",
       "    </tr>\n",
       "    <tr>\n",
       "      <th>Original pyNBS Cluster 4</th>\n",
       "      <td>2</td>\n",
       "      <td>21</td>\n",
       "      <td>36</td>\n",
       "      <td>116</td>\n",
       "    </tr>\n",
       "  </tbody>\n",
       "</table>\n",
       "</div>"
      ],
      "text/plain": [
       "                          New pyNBS Cluster 1  New pyNBS Cluster 2  \\\n",
       "Original pyNBS Cluster 1                   84                   18   \n",
       "Original pyNBS Cluster 2                    0                    2   \n",
       "Original pyNBS Cluster 3                    4                    6   \n",
       "Original pyNBS Cluster 4                    2                   21   \n",
       "\n",
       "                          New pyNBS Cluster 3  New pyNBS Cluster 4  \n",
       "Original pyNBS Cluster 1                   15                   33  \n",
       "Original pyNBS Cluster 2                    3                   10  \n",
       "Original pyNBS Cluster 3                    7                   36  \n",
       "Original pyNBS Cluster 4                   36                  116  "
      ]
     },
     "execution_count": 36,
     "metadata": {},
     "output_type": "execute_result"
    }
   ],
   "source": [
    "# Construct contingency table for cluster assignments\n",
    "intersect_pats = list(cc_align.index)\n",
    "NBS_cont_table_array = []\n",
    "for i in range(1,clusters+1):    \n",
    "    base_cluster = set(base_clust_assign.ix[intersect_pats][base_clust_assign.ix[intersect_pats]==i].index)\n",
    "    base_pyNBS_cluster_intersect = []\n",
    "    for j in range(1,clusters+1):\n",
    "        new_cluster = set(new_clust_assign.ix[intersect_pats][new_clust_assign.ix[intersect_pats]==j].index)\n",
    "        base_pyNBS_cluster_intersect.append(len(base_cluster.intersection(new_cluster)))\n",
    "    NBS_cont_table_array.append(base_pyNBS_cluster_intersect)\n",
    "    \n",
    "# Display contingency table\n",
    "pd.DataFrame(NBS_cont_table_array, \n",
    "             index=['Original pyNBS Cluster '+repr(i) for i in range(1, clusters+1)],\n",
    "             columns=['New pyNBS Cluster '+repr(i) for i in range(1, clusters+1)])"
   ]
  },
  {
   "cell_type": "code",
   "execution_count": 37,
   "metadata": {
    "collapsed": false
   },
   "outputs": [
    {
     "name": "stdout",
     "output_type": "stream",
     "text": [
      "Chi-Squared Statistic: 160.381618421\n",
      "Chi-Squared P-Value: 6.1872200972e-30\n"
     ]
    }
   ],
   "source": [
    "# Calculate p-value and chi-squared statistic:\n",
    "chi_sq_test = stats.chi2_contingency(NBS_cont_table_array, correction=False)\n",
    "print 'Chi-Squared Statistic:', chi_sq_test[0]\n",
    "print 'Chi-Squared P-Value:', chi_sq_test[1]"
   ]
  },
  {
   "cell_type": "markdown",
   "metadata": {},
   "source": [
    "# pyNBS on BLCA with no network propagation\n",
    "Here, we perform the pyNBS algorithm using the BLCA data and default settings with k=4, but without performing any network propagation. The only place the network will be used is in constructing the regularization network for the network-regularized NMF step. The quantile normalization will be performed on the binary sub-sampled data."
   ]
  },
  {
   "cell_type": "code",
   "execution_count": 38,
   "metadata": {
    "collapsed": true
   },
   "outputs": [],
   "source": [
    "# Optional: Setting a filename prefix for all files saved to outdir\n",
    "save_args['job_name'] = 'BLCA_CSN_noprop'"
   ]
  },
  {
   "cell_type": "code",
   "execution_count": 39,
   "metadata": {
    "collapsed": false
   },
   "outputs": [
    {
     "ename": "AttributeError",
     "evalue": "'NoneType' object has no attribute 'nodes'",
     "output_type": "error",
     "traceback": [
      "\u001b[1;31m---------------------------------------------------------------------------\u001b[0m",
      "\u001b[1;31mAttributeError\u001b[0m                            Traceback (most recent call last)",
      "\u001b[1;32m<ipython-input-39-d593e3df51da>\u001b[0m in \u001b[0;36m<module>\u001b[1;34m()\u001b[0m\n\u001b[0;32m      5\u001b[0m \u001b[1;32mfor\u001b[0m \u001b[0mi\u001b[0m \u001b[1;32min\u001b[0m \u001b[0mrange\u001b[0m\u001b[1;33m(\u001b[0m\u001b[0mniter\u001b[0m\u001b[1;33m)\u001b[0m\u001b[1;33m:\u001b[0m\u001b[1;33m\u001b[0m\u001b[0m\n\u001b[0;32m      6\u001b[0m     \u001b[1;31m# Run pyNBS core steps and save resulting H matrix to Hlist\u001b[0m\u001b[1;33m\u001b[0m\u001b[1;33m\u001b[0m\u001b[0m\n\u001b[1;32m----> 7\u001b[1;33m     \u001b[0mBLCA_CSN_noprop_Hlist\u001b[0m\u001b[1;33m.\u001b[0m\u001b[0mappend\u001b[0m\u001b[1;33m(\u001b[0m\u001b[0mpyNBS_single\u001b[0m\u001b[1;33m.\u001b[0m\u001b[0mNBS_single\u001b[0m\u001b[1;33m(\u001b[0m\u001b[0msm_mat\u001b[0m\u001b[1;33m,\u001b[0m \u001b[0mCSN_knnGlap\u001b[0m\u001b[1;33m,\u001b[0m \u001b[0mk\u001b[0m\u001b[1;33m=\u001b[0m\u001b[0mclusters\u001b[0m\u001b[1;33m)\u001b[0m\u001b[1;33m)\u001b[0m\u001b[1;33m\u001b[0m\u001b[0m\n\u001b[0m\u001b[0;32m      8\u001b[0m \u001b[1;33m\u001b[0m\u001b[0m\n\u001b[0;32m      9\u001b[0m \u001b[1;31m# Consensus Clustering\u001b[0m\u001b[1;33m\u001b[0m\u001b[1;33m\u001b[0m\u001b[0m\n",
      "\u001b[1;32m/cellar/users/jkhuang/anaconda/lib/python2.7/site-packages/pyNBS-0.2.0-py2.7.egg/pyNBS/pyNBS_single.pyc\u001b[0m in \u001b[0;36mNBS_single\u001b[1;34m(sm_mat, regNet_glap, propNet, propNet_kernel, k, verbose, **kwargs)\u001b[0m\n\u001b[0;32m     95\u001b[0m \u001b[1;33m\u001b[0m\u001b[0m\n\u001b[0;32m     96\u001b[0m     \u001b[1;31m# Prepare data for mixed netNMF function (align propagated profile columns with regularization network laplacian rows)\u001b[0m\u001b[1;33m\u001b[0m\u001b[1;33m\u001b[0m\u001b[0m\n\u001b[1;32m---> 97\u001b[1;33m     \u001b[0mpropNet_nodes\u001b[0m \u001b[1;33m=\u001b[0m \u001b[0mpropNet\u001b[0m\u001b[1;33m.\u001b[0m\u001b[0mnodes\u001b[0m\u001b[1;33m(\u001b[0m\u001b[1;33m)\u001b[0m\u001b[1;33m\u001b[0m\u001b[0m\n\u001b[0m\u001b[0;32m     98\u001b[0m     \u001b[0mdata_arr\u001b[0m \u001b[1;33m=\u001b[0m \u001b[0mnp\u001b[0m\u001b[1;33m.\u001b[0m\u001b[0marray\u001b[0m\u001b[1;33m(\u001b[0m\u001b[0mprop_data_qnorm\u001b[0m\u001b[1;33m.\u001b[0m\u001b[0mT\u001b[0m\u001b[1;33m.\u001b[0m\u001b[0mix\u001b[0m\u001b[1;33m[\u001b[0m\u001b[0mpropNet_nodes\u001b[0m\u001b[1;33m]\u001b[0m\u001b[1;33m)\u001b[0m\u001b[1;33m\u001b[0m\u001b[0m\n\u001b[0;32m     99\u001b[0m     \u001b[0mregNet_glap_arr\u001b[0m \u001b[1;33m=\u001b[0m \u001b[0mnp\u001b[0m\u001b[1;33m.\u001b[0m\u001b[0marray\u001b[0m\u001b[1;33m(\u001b[0m\u001b[0mregNet_glap\u001b[0m\u001b[1;33m.\u001b[0m\u001b[0mix\u001b[0m\u001b[1;33m[\u001b[0m\u001b[0mpropNet_nodes\u001b[0m\u001b[1;33m]\u001b[0m\u001b[1;33m[\u001b[0m\u001b[0mpropNet_nodes\u001b[0m\u001b[1;33m]\u001b[0m\u001b[1;33m)\u001b[0m\u001b[1;33m\u001b[0m\u001b[0m\n",
      "\u001b[1;31mAttributeError\u001b[0m: 'NoneType' object has no attribute 'nodes'"
     ]
    }
   ],
   "source": [
    "clusters, niters= 4, 100\n",
    "\n",
    "# Run pyNBS\n",
    "BLCA_CSN_noprop_Hlist = []\n",
    "for i in range(niter):\n",
    "    # Run pyNBS core steps and save resulting H matrix to Hlist\n",
    "    BLCA_CSN_noprop_Hlist.append(pyNBS_single.NBS_single(sm_mat, CSN_knnGlap, k=clusters))\n",
    "\n",
    "# Consensus Clustering\n",
    "BLCA_CSN_noprop_NBS_cc_table, BLCA_CSN_noprop_NBS_cc_linkage, BLCA_CSN_noprop_NBS_cluster_assign = cc.consensus_hclust_hard(BLCA_CSN_noprop_Hlist, k=clusters, **save_args)\n",
    "\n",
    "# Plot KM Plot for patient clusters\n",
    "BLCA_CSN_noprop_p = plot.cluster_KMplot(BLCA_CSN_noprop_NBS_cluster_assign, BLCA_surv_data, delimiter=',', **save_args)\n",
    "Image(filename = save_args['outdir']+save_args['job_name']+'_KM_plot.png', width=600, height=600)"
   ]
  },
  {
   "cell_type": "markdown",
   "metadata": {},
   "source": [
    "### Agreement with BLCA pyNBS results under normal algorithm deployment\n",
    "We now use the similarity techniques when comparing pyNBS results to the original Hofree et al results (see the [```OV```]() or [```UCEC```]() Hofree examples for more details) to compare the results of this pyNBS run to the base BLCA pyNBS results with default values on the cancer subnetwork with k=4."
   ]
  },
  {
   "cell_type": "code",
   "execution_count": null,
   "metadata": {
    "collapsed": true
   },
   "outputs": [],
   "source": [
    "cc_align = pd.concat([BLCA_CSN_NBS_cluster_assign, BLCA_CSN_noprop_NBS_cluster_assign], axis=1).dropna()\n",
    "cc_align.columns = ['Base', 'New']\n",
    "base_clust_assign, new_clust_assign = cc_align['Base'], cc_align['New']\n",
    "adj_rand_index = adjusted_rand_score(base_clust_assign, new_clust_assign)\n",
    "adj_mutual_info_score = adjusted_mutual_info_score(base_clust_assign, new_clust_assign)\n",
    "print 'Adjusted Rand Index is: ' + str(adj_rand_index)\n",
    "print 'Adjusted Mutual Info Score is: ' + str(adj_mutual_info_score)"
   ]
  },
  {
   "cell_type": "code",
   "execution_count": null,
   "metadata": {
    "collapsed": true
   },
   "outputs": [],
   "source": [
    "# Construct contingency table for cluster assignments\n",
    "intersect_pats = list(cc_align.index)\n",
    "NBS_cont_table_array = []\n",
    "for i in range(1,clusters+1):    \n",
    "    base_cluster = set(base_clust_assign.ix[intersect_pats][base_clust_assign.ix[intersect_pats]==i].index)\n",
    "    base_pyNBS_cluster_intersect = []\n",
    "    for j in range(1,clusters+1):\n",
    "        new_cluster = set(new_clust_assign.ix[intersect_pats][new_clust_assign.ix[intersect_pats]==j].index)\n",
    "        base_pyNBS_cluster_intersect.append(len(base_cluster.intersection(new_cluster)))\n",
    "    NBS_cont_table_array.append(base_pyNBS_cluster_intersect)\n",
    "    \n",
    "# Display contingency table\n",
    "pd.DataFrame(NBS_cont_table_array, \n",
    "             index=['Original pyNBS Cluster '+repr(i) for i in range(1, clusters+1)],\n",
    "             columns=['New pyNBS Cluster '+repr(i) for i in range(1, clusters+1)])"
   ]
  },
  {
   "cell_type": "code",
   "execution_count": null,
   "metadata": {
    "collapsed": true
   },
   "outputs": [],
   "source": [
    "# Calculate p-value and chi-squared statistic:\n",
    "chi_sq_test = stats.chi2_contingency(NBS_cont_table_array, correction=False)\n",
    "print 'Chi-Squared Statistic:', chi_sq_test[0]\n",
    "print 'Chi-Squared P-Value:', chi_sq_test[1]"
   ]
  },
  {
   "cell_type": "markdown",
   "metadata": {},
   "source": [
    "# pyNBS on BLCA with no network regularization\n",
    "Here, we perform the pyNBS algorithm using the BLCA data and default settings with k=4, but without constructing the regularization for the network-regularized NMF. The somatic mutation data will still be propgated over the Cancer Subnetwork, but the regularization term in the [```mixed_netNMF```](https://github.com/huangger/pyNBS/wiki/pyNBS.pyNBS_core.mixed_netNMF) step will be set to 0."
   ]
  },
  {
   "cell_type": "code",
   "execution_count": null,
   "metadata": {
    "collapsed": true
   },
   "outputs": [],
   "source": [
    "# Optional: Setting a filename prefix for all files saved to outdir\n",
    "save_args['job_name'] = 'BLCA_CSN_noreg'\n",
    "# Setting lambda value (regularization constant) to 0\n",
    "NBS_single_params = {'netNMF_lambda':'0'}"
   ]
  },
  {
   "cell_type": "code",
   "execution_count": null,
   "metadata": {
    "collapsed": true
   },
   "outputs": [],
   "source": [
    "clusters, niters= 4, 100\n",
    "\n",
    "# Run pyNBS\n",
    "BLCA_CSN_noreg_Hlist = []\n",
    "for i in range(niter):\n",
    "    # Run pyNBS core steps and save resulting H matrix to Hlist\n",
    "    BLCA_CSN_noreg_Hlist.append(pyNBS_single.NBS_single(sm_mat, CSN_knnGlap, k=clusters, **NBS_single_params))\n",
    "\n",
    "# Consensus Clustering\n",
    "BLCA_CSN_noreg_NBS_cc_table, BLCA_CSN_noreg_NBS_cc_linkage, BLCA_CSN_noreg_NBS_cluster_assign = cc.consensus_hclust_hard(BLCA_CSN_noreg_Hlist, k=clusters, **save_args)\n",
    "\n",
    "# Plot KM Plot for patient clusters\n",
    "BLCA_CSN_noreg_p = plot.cluster_KMplot(BLCA_CSN_noreg_NBS_cluster_assign, BLCA_surv_data, delimiter=',', **save_args)\n",
    "Image(filename = save_args['outdir']+save_args['job_name']+'_KM_plot.png', width=600, height=600)"
   ]
  },
  {
   "cell_type": "markdown",
   "metadata": {},
   "source": [
    "### Agreement with BLCA pyNBS results under normal algorithm deployment\n",
    "We now use the similarity techniques when comparing pyNBS results to the original Hofree et al results (see the [```OV```]() or [```UCEC```]() Hofree examples for more details) to compare the results of this pyNBS run to the base BLCA pyNBS results with default values on the cancer subnetwork with k=4."
   ]
  },
  {
   "cell_type": "code",
   "execution_count": null,
   "metadata": {
    "collapsed": true
   },
   "outputs": [],
   "source": [
    "cc_align = pd.concat([BLCA_CSN_NBS_cluster_assign, BLCA_CSN_noreg_NBS_cluster_assign], axis=1).dropna()\n",
    "base_clust_assign, new_clust_assign = cc_align[cc_align.columns[0]], cc_align[cc_align.columns[1]]\n",
    "adj_rand_index = adjusted_rand_score(base_clust_assign, new_clust_assign)\n",
    "adj_mutual_info_score = adjusted_mutual_info_score(base_clust_assign, new_clust_assign)\n",
    "print 'Adjusted Rand Index is: ' + str(adj_rand_index)\n",
    "print 'Adjusted Mutual Info Score is: ' + str(adj_mutual_info_score)"
   ]
  },
  {
   "cell_type": "code",
   "execution_count": null,
   "metadata": {
    "collapsed": true
   },
   "outputs": [],
   "source": [
    "# Construct contingency table for cluster assignments\n",
    "intersect_pats = list(cc_align.index)\n",
    "NBS_cont_table_array = []\n",
    "for i in range(1,clusters+1):    \n",
    "    base_cluster = set(base_clust_assign.ix[intersect_pats][base_clust_assign.ix[intersect_pats]==i].index)\n",
    "    base_pyNBS_cluster_intersect = []\n",
    "    for j in range(1,clusters+1):\n",
    "        new_cluster = set(new_clust_assign.ix[intersect_pats][new_clust_assign.ix[intersect_pats]==j].index)\n",
    "        base_pyNBS_cluster_intersect.append(len(base_cluster.intersection(new_cluster)))\n",
    "    NBS_cont_table_array.append(base_pyNBS_cluster_intersect)\n",
    "    \n",
    "# Display contingency table\n",
    "pd.DataFrame(NBS_cont_table_array, \n",
    "             index=['Original pyNBS Cluster '+repr(i) for i in range(1, clusters+1)],\n",
    "             columns=['New pyNBS Cluster '+repr(i) for i in range(1, clusters+1)])"
   ]
  },
  {
   "cell_type": "code",
   "execution_count": null,
   "metadata": {
    "collapsed": true
   },
   "outputs": [],
   "source": [
    "# Calculate p-value and chi-squared statistic:\n",
    "chi_sq_test = stats.chi2_contingency(NBS_cont_table_array, correction=False)\n",
    "print 'Chi-Squared Statistic:', chi_sq_test[0]\n",
    "print 'Chi-Squared P-Value:', chi_sq_test[1]"
   ]
  },
  {
   "cell_type": "markdown",
   "metadata": {},
   "source": [
    "# pyNBS on BLCA with no consensus clustering\n",
    "Here, we perform the pyNBS algorithm using the BLCA data, the cancer subnetwork and default settings with k=4. However, we will perform the algorithm without any consensus clustering but rather set both subsampling parameters to 1.0 (see [```subsample_sm_mat```](https://github.com/huangger/pyNBS/wiki/pyNBS.pyNBS_core.subsample_sm_mat) for more details). "
   ]
  },
  {
   "cell_type": "code",
   "execution_count": null,
   "metadata": {
    "collapsed": false
   },
   "outputs": [],
   "source": [
    "# Optional: Setting a filename prefix for all files saved to outdir\n",
    "save_args['job_name'] = 'BLCA_CSN_nocc'\n",
    "# Setting subsampling parameters\n",
    "NBS_single_params2 = {'pats_subsample_p':'1'}\n",
    "NBS_single_params2 = {'gene_subsample_p':'1'}"
   ]
  },
  {
   "cell_type": "code",
   "execution_count": null,
   "metadata": {
    "collapsed": true
   },
   "outputs": [],
   "source": [
    "clusters, niters= 4, 100\n",
    "\n",
    "# Run pyNBS\n",
    "BLCA_CSN_nocc_H = pyNBS_single.NBS_single(sm_mat, CSN_knnGlap, propNet=CSN_nocc, propNet_kernel=CSN_nocc_kernel, k=clusters)\n",
    "\n",
    "# Hard clustering (no consensus)\n",
    "BLCA_CSN_nocc_H.columns = range(1,len(BLCA_CSN_nocc_H.columns)+1)\n",
    "BLCA_CSN_nocc_cluster_assign_dict = {}\n",
    "for pat in BLCA_CSN_nocc_H.index:\n",
    "    BLCA_CSN_nocc_cluster_assign_dict[pat] = np.argmax(BLCA_CSN_nocc_H.ix[pat])\n",
    "BLCA_CSN_nocc_cluster_assign = pd.Series(BLCA_CSN_nocc_cluster_assign_dict, name='CC Hard, k='+repr(clusters))\n",
    "save_clusters_path = save_args['outdir']+str(save_args['job_name'])+'_cluster_assignments.csv'\n",
    "BLCA_CSN_nocc_cluster_assign.to_csv(save_clusters_path)\n",
    "\n",
    "# Plot KM Plot for patient clusters\n",
    "BLCA_CSN_nocc_p = plot.cluster_KMplot(BLCA_CSN_nocc_cluster_assign, BLCA_surv_data, delimiter=',', **save_args)\n",
    "Image(filename = save_args['outdir']+save_args['job_name']+'_KM_plot.png', width=600, height=600)"
   ]
  },
  {
   "cell_type": "markdown",
   "metadata": {},
   "source": [
    "### Agreement with BLCA pyNBS results under normal algorithm deployment\n",
    "We now use the similarity techniques when comparing pyNBS results to the original Hofree et al results (see the [```OV```]() or [```UCEC```]() Hofree examples for more details) to compare the results of this pyNBS run to the base BLCA pyNBS results with default values on the cancer subnetwork with k=4."
   ]
  },
  {
   "cell_type": "code",
   "execution_count": null,
   "metadata": {
    "collapsed": true
   },
   "outputs": [],
   "source": [
    "cc_align = pd.concat([BLCA_CSN_NBS_cluster_assign, BLCA_CSN_nocc_cluster_assign], axis=1).dropna()\n",
    "cc_align.columns = ['Base', 'New']\n",
    "base_clust_assign, new_clust_assign = cc_align['Base'], cc_align['New']\n",
    "adj_rand_index = adjusted_rand_score(base_clust_assign, new_clust_assign)\n",
    "adj_mutual_info_score = adjusted_mutual_info_score(base_clust_assign, new_clust_assign)\n",
    "print 'Adjusted Rand Index is: ' + str(adj_rand_index)\n",
    "print 'Adjusted Mutual Info Score is: ' + str(adj_mutual_info_score)"
   ]
  },
  {
   "cell_type": "code",
   "execution_count": null,
   "metadata": {
    "collapsed": true
   },
   "outputs": [],
   "source": [
    "# Construct contingency table for cluster assignments\n",
    "intersect_pats = list(cc_align.index)\n",
    "NBS_cont_table_array = []\n",
    "for i in range(1,clusters+1):    \n",
    "    base_cluster = set(base_clust_assign.ix[intersect_pats][base_clust_assign.ix[intersect_pats]==i].index)\n",
    "    base_pyNBS_cluster_intersect = []\n",
    "    for j in range(1,clusters+1):\n",
    "        new_cluster = set(new_clust_assign.ix[intersect_pats][new_clust_assign.ix[intersect_pats]==j].index)\n",
    "        base_pyNBS_cluster_intersect.append(len(base_cluster.intersection(new_cluster)))\n",
    "    NBS_cont_table_array.append(base_pyNBS_cluster_intersect)\n",
    "    \n",
    "# Display contingency table\n",
    "pd.DataFrame(NBS_cont_table_array, \n",
    "             index=['Original pyNBS Cluster '+repr(i) for i in range(1, clusters+1)],\n",
    "             columns=['New pyNBS Cluster '+repr(i) for i in range(1, clusters+1)])"
   ]
  },
  {
   "cell_type": "code",
   "execution_count": null,
   "metadata": {
    "collapsed": true
   },
   "outputs": [],
   "source": [
    "# Calculate p-value and chi-squared statistic:\n",
    "chi_sq_test = stats.chi2_contingency(NBS_cont_table_array, correction=False)\n",
    "print 'Chi-Squared Statistic:', chi_sq_test[0]\n",
    "print 'Chi-Squared P-Value:', chi_sq_test[1]"
   ]
  },
  {
   "cell_type": "code",
   "execution_count": null,
   "metadata": {
    "collapsed": true
   },
   "outputs": [],
   "source": []
  }
 ],
 "metadata": {
  "kernelspec": {
   "display_name": "Python 2",
   "language": "python",
   "name": "python2"
  },
  "language_info": {
   "codemirror_mode": {
    "name": "ipython",
    "version": 2
   },
   "file_extension": ".py",
   "mimetype": "text/x-python",
   "name": "python",
   "nbconvert_exporter": "python",
   "pygments_lexer": "ipython2",
   "version": "2.7.11"
  }
 },
 "nbformat": 4,
 "nbformat_minor": 0
}
