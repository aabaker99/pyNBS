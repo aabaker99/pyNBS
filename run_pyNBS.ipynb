{
 "cells": [
  {
   "cell_type": "code",
   "execution_count": 8,
   "metadata": {
    "collapsed": true
   },
   "outputs": [],
   "source": [
    "from pyNBS import data_import_tools as dit\n",
    "from pyNBS import network_propagation as prop\n",
    "from pyNBS import pyNBS_core as core\n",
    "from pyNBS import pyNBS_single\n",
    "from pyNBS import consensus_clustering as cc\n",
    "from pyNBS import pyNBS_plotting as plot\n",
    "import time\n",
    "import pandas as pd\n",
    "import numpy as np"
   ]
  },
  {
   "cell_type": "markdown",
   "metadata": {},
   "source": [
    "### Running Parameters"
   ]
  },
  {
   "cell_type": "markdown",
   "metadata": {},
   "source": [
    "|Param|Help|\n",
    "|:------|:------|\n",
    "|sm_data_file|Path to binary mutation matrix file. May be a csv or 2-column list where each line is a sample and the gene mutated separated by a common delimiter.|\n",
    "|network_path|Path to molecular network file. File must be table where each line is a gene interaction separated by a common delimiter and the first 2 columns represent interacting proteins.|\n",
    "|mut_filedelim|Delimiter used in binary mutation file. Default is tab white space.|\n",
    "|net_filedelim|Delimiter used in network file between columns. Default is tab white space.|\n",
    "|degree_preserved_shuffle|Determination of whether or not to shuffle the network edges (while preserving node degree) when loading network.|\n",
    "|node_label_shuffle|Determination of whether or not to shuffle the network node labels (while preserving network topology) when loading network.|\n",
    "|regularize_network|Determination of whether or not to calculate influence matrix regularization network for regularized NMF step.|\n",
    "|reg_net_gamma|Value of adjustment on propagation network graph laplacian to calculate influence matrix for (via Vandin 2011).|\n",
    "|k_nearest_neighbors|Number of nearest neighbors to add to the regularization network during construction.|\n",
    "|\n",
    "\n"
   ]
  },
  {
   "cell_type": "code",
   "execution_count": null,
   "metadata": {
    "collapsed": true
   },
   "outputs": [],
   "source": [
    "run_pyNBS_params = {'sm_data_file' : 'path',\n",
    "                    'network_path' : 'path',\n",
    "                    'mut_filedelim' : '\\t',\n",
    "                    'net_filedelim' : '\\t',\n",
    "                    'degree_preserved_shuffle' : False,\n",
    "                    'node_label_shuffle' : False,\n",
    "                    'regularize_network' : False,\n",
    "                    'reg_net_gamma' : 0.01,\n",
    "                    'k_nearest_neighbors' : 11,\n",
    "                    \n",
    "                    \n",
    "                    }"
   ]
  },
  {
   "cell_type": "markdown",
   "metadata": {},
   "source": [
    "### NBS Options"
   ]
  },
  {
   "cell_type": "markdown",
   "metadata": {},
   "source": [
    "|Option|Type|Default|Help|\n",
    "|:------|:------|:------|:------|\n",
    "|pats_subsample_p|float|0.8|Proportion of samples to sub-sample|\n",
    "|gene_subsample_p|float|0.8|Proportion of mutated genes to sub-sample|\n",
    "|min_muts|positive_int|10|Minimum number of mutations for a sample to contain after sub-sampling to be considered for further analysis|\n",
    "|prop_data|bool|True|Determination of whether or not to propagate sub-sampled binary mutation data over given molecular network |\n",
    "|prop_alpha  |restricted_float|0.7|Propagation constant to use in the propagation of mutations over molecular network. Range is 0.0-1.0 exclusive. |\n",
    "|prop_symmetric_norm|bool|False|Network degree normalization method for random walk-propagation. |\n",
    "|qnorm_data  |bool  |True |Determination of whether or not to qunatile normalize mutation profiles. |\n",
    "|netNMF_niter|positive_int|1000|Number of iterations to perform sub-sampling and network-regularized NMF before consensus clustering.|\n",
    "|netNMF_k  |positive_int  |4 |Number of components to decompose patient mutation data into. Same as the number of clusters of patients to separate data into. |\n",
    "|netNMF_gamma  |positive_int  |200 |Regularization constant to scale network regularization term in netNMF. |\n",
    "|netNMF_update_gamma |bool |False |Determination of whether or not to constantly update regularization constant based on balance between reconstruction error and regularization term.|\n",
    "|netNMF_gamma_factor |positive_int |1 |Scaling factor for regularization constant updates if 'netNMF_update_gamma' is True. |\n",
    "|netNMF_niter  |positive_int  |250 |Maximum umber of multiplicative updates to perform within network-regularized NMF if result does not converge. |\n",
    "|netNMF_eps  |float  |1e-15  |Epsilon error value to adjust 0 values during multiplicative matrix updates in netNMF |\n",
    "|netNMF_err_tol  |float  |1e-4  |Minimum error tolerance for matrix reconstruction of original data for convergence. |\n",
    "|netNMF_err_delta_tol  |float  |1e-4  |Minimum error tolerance for l2 norm of difference in matrix reconstructions between iterations of netNMF for convergence. |"
   ]
  },
  {
   "cell_type": "code",
   "execution_count": 9,
   "metadata": {
    "collapsed": true
   },
   "outputs": [],
   "source": [
    "NBS_options = {'pats_subsample_p' : 0.8, \n",
    "               'gene_subsample_p' : 0.8, \n",
    "               'min_muts' : 10,\n",
    "               'prop_data' : True, \n",
    "               'prop_alpha' : 0.7, \n",
    "               'prop_symmetric_norm' : False, \n",
    "               'qnorm_data' : True,\n",
    "               'netNMF_niter' : 1000,\n",
    "               'netNMF_k' : 4, \n",
    "               'netNMF_gamma' : 200, \n",
    "               'netNMF_update_gamma' : False, \n",
    "               'netNMF_gamma_factor' : 1,\n",
    "               'netNMF_niter' : 250, \n",
    "               'netNMF_eps' : 1e-15, \n",
    "               'netNMF_err_tol' : 1e-4, \n",
    "               'netNMF_err_delta_tol' : 1e-4}\n"
   ]
  },
  {
   "cell_type": "markdown",
   "metadata": {},
   "source": [
    "### Load data"
   ]
  },
  {
   "cell_type": "code",
   "execution_count": null,
   "metadata": {
    "collapsed": true
   },
   "outputs": [],
   "source": []
  },
  {
   "cell_type": "markdown",
   "metadata": {
    "collapsed": true
   },
   "source": [
    "### knnGlap"
   ]
  },
  {
   "cell_type": "code",
   "execution_count": null,
   "metadata": {
    "collapsed": true
   },
   "outputs": [],
   "source": []
  },
  {
   "cell_type": "markdown",
   "metadata": {},
   "source": [
    "### Network propagation kernel"
   ]
  },
  {
   "cell_type": "code",
   "execution_count": null,
   "metadata": {
    "collapsed": true
   },
   "outputs": [],
   "source": []
  },
  {
   "cell_type": "markdown",
   "metadata": {},
   "source": [
    "### Sub-sampling and netNMF decomposition"
   ]
  },
  {
   "cell_type": "code",
   "execution_count": null,
   "metadata": {
    "collapsed": true
   },
   "outputs": [],
   "source": []
  },
  {
   "cell_type": "markdown",
   "metadata": {},
   "source": [
    "### Consensus Clustering"
   ]
  },
  {
   "cell_type": "code",
   "execution_count": null,
   "metadata": {
    "collapsed": true
   },
   "outputs": [],
   "source": []
  },
  {
   "cell_type": "code",
   "execution_count": null,
   "metadata": {
    "collapsed": true
   },
   "outputs": [],
   "source": []
  }
 ],
 "metadata": {
  "kernelspec": {
   "display_name": "Python 2",
   "language": "python",
   "name": "python2"
  },
  "language_info": {
   "codemirror_mode": {
    "name": "ipython",
    "version": 2
   },
   "file_extension": ".py",
   "mimetype": "text/x-python",
   "name": "python",
   "nbconvert_exporter": "python",
   "pygments_lexer": "ipython2",
   "version": "2.7.13"
  }
 },
 "nbformat": 4,
 "nbformat_minor": 2
}
