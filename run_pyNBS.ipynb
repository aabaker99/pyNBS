{
 "cells": [
  {
   "cell_type": "code",
   "execution_count": 1,
   "metadata": {
    "collapsed": true
   },
   "outputs": [],
   "source": [
    "from pyNBS import data_import_tools as dit\n",
    "from pyNBS import network_propagation as prop\n",
    "from pyNBS import pyNBS_core as core\n",
    "from pyNBS import pyNBS_single\n",
    "from pyNBS import consensus_clustering as cc\n",
    "from pyNBS import pyNBS_plotting as plot\n",
    "import time\n",
    "import pandas as pd\n",
    "import numpy as np"
   ]
  },
  {
   "cell_type": "markdown",
   "metadata": {},
   "source": [
    "### Running Parameters"
   ]
  },
  {
   "cell_type": "markdown",
   "metadata": {},
   "source": [
    "|Param|Help|\n",
    "|:------|:------|\n",
    "|verbose|Verbosity flag for reporting on patient similarity network construction steps.|\n",
    "|sm_data_file|Path to binary mutation matrix file. May be a csv or 2-column list where each line is a sample and the gene mutated separated by a common delimiter.|\n",
    "|network_path|Path to molecular network file. File must be table where each line is a gene interaction separated by a common delimiter and the first 2 columns represent interacting proteins.|\n",
    "|mut_filetype|File structure of binary mutation data. 2 options: \"matrix\" (e.g. csv or tsv) or \"list\" (2-column list). Typically reading a \"list\" is faster.|\n",
    "|mut_filedelim|Delimiter used in binary mutation file. Default is tab white space.|\n",
    "|net_filedelim|Delimiter used in network file between columns. Default is tab white space.|\n",
    "|degree_preserved_shuffle|Determination of whether or not to shuffle the network edges (while preserving node degree) when loading network.|\n",
    "|node_label_shuffle|Determination of whether or not to shuffle the network node labels (while preserving network topology) when loading network.|\n",
    "|regularize_network|Determination of whether or not to calculate influence matrix regularization network for regularized NMF step.|\n",
    "|reg_net_gamma|Value of adjustment on propagation network graph laplacian to calculate influence matrix for (via Vandin 2011).|\n",
    "|k_nearest_neighbors|Number of nearest neighbors to add to the regularization network during construction.|\n",
    "|save_knn_glap|File path of where to save graph laplacian for k-nearest-neighbor network constructed from propagation network influence matrix. No path given as default, automatically saves pandas hdf file if file path given.|\n",
    "|regularization_network_graph_laplacian_file|Path to regularization network graph laplacian matrix if previously calculated. Required if 'regularize_network' is False.|\n",
    "|niter|Number of iterations to perform sub-sampling and network-regularized NMF before consensus clustering.|\n",
    "|propagate_data|Determination of whether or not to propagate sub-sampled binary mutation data over given molecular network.|\n",
    "|calculate_propagation_kernel|Determination of whether or not to pre-calculate network kernel for network propagation. Highly recommended if no network kernel file is given already and niter > 10.|\n",
    "|propagation_kernel_file|Path to pre-calculated propagation kernel of network. This will save time in the propagation step.|\n",
    "|save_H|File path of where to save decomposed patient profiles. No path given as default, automatically saves csv file if file path given.|\n",
    "|consensus_cluster|Determination of whether or not to perform consensus clustering on decompositions of patient profiles.|\n",
    "|assign_clusters|Determination of whether or not to assign numerical clusters to patients based on consensus clustering of patient profiles.|\n",
    "|save_co_cluster_matrix|File path of where to save patient co-clustering matrix. No path given as default, automatically saves csv file if file path given.|\n",
    "|save_cluster_assignments|File path of where to save patient cluster assignments. No path given as default, automatically saves csv file if file path given.|\n",
    "|plot_co_cluster_map|Determination of whether or not to plot the co-clustering matrix. Requires consensus clustering and cluster assignments.|\n",
    "|plot_title|Title of co-clustering matrix map if desired.|\n",
    "|save_co_cluster_map|File path of where to save co-clustering matrix plot. No path given as default, automatically saves pdf file if file path given.|\n",
    "\n",
    "\n"
   ]
  },
  {
   "cell_type": "code",
   "execution_count": 59,
   "metadata": {},
   "outputs": [],
   "source": [
    "run_pyNBS_params = {'verbose' : False,\n",
    "                    ##### Path for Ovarian #####\n",
    "                    'sm_data_file' : '/cellar/users/jkhuang/Data/Projects/pyNBS/Data/TCGA_sm_data/processed/OV_sm_data_filt.txt',\n",
    "                    'network_path' : '/cellar/users/jkhuang/Data/Projects/pyNBS/Data/NBS_v0.2.0_Matlab_data/HM90.sif',\n",
    "                    \n",
    "                    ##### Path for Uterine #####\n",
    "                    #'sm_data_file' : '/cellar/users/jkhuang/Data/Projects/pyNBS/Data/TCGA_sm_data/processed/UCEC_sm_data.txt',\n",
    "                    #'network_path' : '/cellar/users/jkhuang/Data/Projects/pyNBS/Data/NBS_v0.2.0_Matlab_data/ST90.sif',\n",
    "                    \n",
    "                    'mut_filetype' : 'list',\n",
    "                    'mut_filedelim' : '\\t',\n",
    "                    'net_filedelim' : '\\t',\n",
    "                    'degree_preserved_shuffle' : False,\n",
    "                    'node_label_shuffle' : False,\n",
    "                    'regularize_network' : True,\n",
    "                    'reg_net_gamma' : 0.01,\n",
    "                    'k_nearest_neighbors' : 11,\n",
    "                    'save_knn_glap' : None,\n",
    "                    'regularization_network_graph_laplacian_file' : None,\n",
    "                    #'propagate_data' : True,\n",
    "                    'niter' : 10, # 1000 default\n",
    "                    'calculate_propagation_kernel' : False,\n",
    "                    'propagation_kernel_file' : None,\n",
    "                    'save_H' : None,\n",
    "                    'consensus_cluster' : True,\n",
    "                    'assign_clusters' : True,\n",
    "                    'save_co_cluster_matrix' : None,\n",
    "                    'save_cluster_assignments' : None,\n",
    "                    'plot_co_cluster_map' : True,\n",
    "                    'plot_title' : False,\n",
    "                    'save_co_cluster_map' : None,\n",
    "                    }"
   ]
  },
  {
   "cell_type": "markdown",
   "metadata": {},
   "source": [
    "### NBS Options"
   ]
  },
  {
   "cell_type": "markdown",
   "metadata": {},
   "source": [
    "|Option|Type|Default|Help|\n",
    "|:------|:------|:------|:------|\n",
    "|pats_subsample_p|float|0.8|Proportion of samples to sub-sample|\n",
    "|gene_subsample_p|float|0.8|Proportion of mutated genes to sub-sample|\n",
    "|min_muts|positive_int|10|Minimum number of mutations for a sample to contain after sub-sampling to be considered for further analysis|\n",
    "|prop_data|bool|True|Determination of whether or not to propagate sub-sampled binary mutation data over given molecular network \n",
    "|prop_alpha  |restricted_float|0.7|Propagation constant to use in the propagation of mutations over molecular network. Range is 0.0-1.0 exclusive. |\n",
    "|prop_symmetric_norm|bool|False|Network degree normalization method for random walk-propagation. |\n",
    "|qnorm_data  |bool  |True |Determination of whether or not to qunatile normalize mutation profiles. |\n",
    "|netNMF_k  |positive_int  |4 |Number of components to decompose patient mutation data into. Same as the number of clusters of patients to separate data into. |\n",
    "|netNMF_gamma  |positive_int  |200 |Regularization constant to scale network regularization term in netNMF. |\n",
    "|netNMF_update_gamma |bool |False |Determination of whether or not to constantly update regularization constant based on balance between reconstruction error and regularization term.|\n",
    "|netNMF_gamma_factor |positive_int |1 |Scaling factor for regularization constant updates if 'netNMF_update_gamma' is True. |\n",
    "|netNMF_niter  |positive_int  |250 |Maximum umber of multiplicative updates to perform within network-regularized NMF if result does not converge. |\n",
    "|netNMF_eps  |float  |1e-15  |Epsilon error value to adjust 0 values during multiplicative matrix updates in netNMF |\n",
    "|netNMF_err_tol  |float  |1e-4  |Minimum error tolerance for matrix reconstruction of original data for convergence. |\n",
    "|netNMF_err_delta_tol  |float  |1e-4  |Minimum error tolerance for l2 norm of difference in matrix reconstructions between iterations of netNMF for convergence. |"
   ]
  },
  {
   "cell_type": "code",
   "execution_count": 60,
   "metadata": {
    "collapsed": true
   },
   "outputs": [],
   "source": [
    "NBS_options = {'pats_subsample_p' : 0.8, \n",
    "               'gene_subsample_p' : 0.8, \n",
    "               'min_muts' : 10,\n",
    "               'prop_data' : True, \n",
    "               'prop_alpha' : 0.7, \n",
    "               'prop_symmetric_norm' : False, \n",
    "               'qnorm_data' : True,\n",
    "               'netNMF_k' : 4, \n",
    "               'netNMF_gamma' : 200, \n",
    "               'netNMF_update_gamma' : False, \n",
    "               'netNMF_gamma_factor' : 1,\n",
    "               'netNMF_niter' : 250, \n",
    "               'netNMF_eps' : 1e-15, \n",
    "               'netNMF_err_tol' : 1e-4, \n",
    "               'netNMF_err_delta_tol' : 1e-4}\n"
   ]
  },
  {
   "cell_type": "markdown",
   "metadata": {},
   "source": [
    "### Load data"
   ]
  },
  {
   "cell_type": "code",
   "execution_count": 44,
   "metadata": {},
   "outputs": [],
   "source": [
    "# Load somatic mutation data\n",
    "sm_mat = dit.load_binary_mutation_data(run_pyNBS_params['sm_data_file'], filetype=run_pyNBS_params['mut_filetype'], delimiter=run_pyNBS_params['mut_filedelim'], verbose=run_pyNBS_params['verbose'])\n",
    "# Load network\n",
    "network = dit.load_network_file(run_pyNBS_params['network_path'], delimiter=run_pyNBS_params['net_filedelim'], degree_shuffle=run_pyNBS_params['degree_preserved_shuffle'], \n",
    "                                label_shuffle=run_pyNBS_params['node_label_shuffle'], verbose=run_pyNBS_params['verbose'])\n"
   ]
  },
  {
   "cell_type": "markdown",
   "metadata": {
    "collapsed": true
   },
   "source": [
    "### knnGlap"
   ]
  },
  {
   "cell_type": "code",
   "execution_count": 47,
   "metadata": {},
   "outputs": [],
   "source": [
    "# Get knnGlap\n",
    "if run_pyNBS_params['regularize_network']:\n",
    "    knnGlap = core.network_inf_KNN_glap(network, gamma=run_pyNBS_params['reg_net_gamma'], kn=run_pyNBS_params['k_nearest_neighbors'], verbose=run_pyNBS_params['verbose'], save_path=run_pyNBS_params['save_knn_glap'])\n",
    "else:\n",
    "    # Load propatagion kernel\n",
    "    if run_pyNBS_params['regularization_network_graph_laplacian_file'].endswith('.hdf'):\n",
    "        knnGlap = pd.read_hdf(run_pyNBS_params['regularization_network_graph_laplacian_file'])\n",
    "    else:\n",
    "        knnGlap = pd.read_csv(run_pyNBS_params['regularization_network_graph_laplacian_file'])\n",
    "    if run_pyNBS_params['verbose']:\n",
    "        print 'Pre-calculated regularization network graph laplacian loaded'\n"
   ]
  },
  {
   "cell_type": "markdown",
   "metadata": {},
   "source": [
    "### Network propagation kernel"
   ]
  },
  {
   "cell_type": "code",
   "execution_count": 50,
   "metadata": {},
   "outputs": [],
   "source": [
    "# Get network propagation kernel\n",
    "if run_pyNBS_params['propagation_kernel_file'] is not None:\n",
    "    # Load propagation kernel\n",
    "    if run_pyNBS_params['propagation_kernel_file'].endswith('.hdf'):\n",
    "        kernel = pd.read_hdf(run_pyNBS_params['propagation_kernel_file'])\n",
    "    else:\n",
    "        kernel = pd.read_csv(run_pyNBS_params['propagation_kernel_file'])\n",
    "    if run_pyNBS_params['verbose']:\n",
    "        print 'Pre-calculated network kernel loaded'\n",
    "else:\n",
    "    if run_pyNBS_params['calculate_propagation_kernel']:\n",
    "        # Calculate propagation kernel by propagating identity matrix of network\n",
    "        network_nodes = network.nodes()\n",
    "        network_I = pd.DataFrame(np.identity(len(network_nodes)), index=network_nodes, columns=network_nodes)\n",
    "        kernel = prop.network_propagation(network, network_I, NBS_options['prop_alpha'], verbose=True)  \n",
    "        if run_pyNBS_params['verbose']:\n",
    "            print 'Network kernel calculated'\n",
    "    else:\n",
    "        kernel = None\n",
    "        if run_pyNBS_params['verbose']:\n",
    "            print 'No network kernel established'"
   ]
  },
  {
   "cell_type": "markdown",
   "metadata": {},
   "source": [
    "### Sub-sampling and netNMF decomposition"
   ]
  },
  {
   "cell_type": "code",
   "execution_count": 62,
   "metadata": {},
   "outputs": [
    {
     "ename": "ValueError",
     "evalue": "array must not contain infs or NaNs",
     "output_type": "error",
     "traceback": [
      "\u001b[0;31m---------------------------------------------------------------------------\u001b[0m",
      "\u001b[0;31mValueError\u001b[0m                                Traceback (most recent call last)",
      "\u001b[0;32m<ipython-input-62-8234ac05cbc0>\u001b[0m in \u001b[0;36m<module>\u001b[0;34m()\u001b[0m\n\u001b[1;32m      2\u001b[0m \u001b[0;32mfor\u001b[0m \u001b[0mi\u001b[0m \u001b[0;32min\u001b[0m \u001b[0mrange\u001b[0m\u001b[0;34m(\u001b[0m\u001b[0mrun_pyNBS_params\u001b[0m\u001b[0;34m[\u001b[0m\u001b[0;34m'niter'\u001b[0m\u001b[0;34m]\u001b[0m\u001b[0;34m)\u001b[0m\u001b[0;34m:\u001b[0m\u001b[0;34m\u001b[0m\u001b[0m\n\u001b[1;32m      3\u001b[0m     \u001b[0mnetNMF_time\u001b[0m \u001b[0;34m=\u001b[0m \u001b[0mtime\u001b[0m\u001b[0;34m.\u001b[0m\u001b[0mtime\u001b[0m\u001b[0;34m(\u001b[0m\u001b[0;34m)\u001b[0m\u001b[0;34m\u001b[0m\u001b[0m\n\u001b[0;32m----> 4\u001b[0;31m     \u001b[0mHlist\u001b[0m\u001b[0;34m.\u001b[0m\u001b[0mappend\u001b[0m\u001b[0;34m(\u001b[0m\u001b[0mpyNBS_single\u001b[0m\u001b[0;34m.\u001b[0m\u001b[0mNBS_single\u001b[0m\u001b[0;34m(\u001b[0m\u001b[0msm_mat\u001b[0m\u001b[0;34m,\u001b[0m \u001b[0mNBS_options\u001b[0m\u001b[0;34m,\u001b[0m \u001b[0mpropNet\u001b[0m\u001b[0;34m=\u001b[0m\u001b[0mnetwork\u001b[0m\u001b[0;34m,\u001b[0m \u001b[0mpropNet_kernel\u001b[0m\u001b[0;34m=\u001b[0m\u001b[0mkernel\u001b[0m\u001b[0;34m,\u001b[0m \u001b[0mregNet_glap\u001b[0m\u001b[0;34m=\u001b[0m\u001b[0mknnGlap\u001b[0m\u001b[0;34m,\u001b[0m \u001b[0mverbose\u001b[0m\u001b[0;34m=\u001b[0m\u001b[0mFalse\u001b[0m\u001b[0;34m,\u001b[0m \u001b[0msave_path\u001b[0m\u001b[0;34m=\u001b[0m\u001b[0mrun_pyNBS_params\u001b[0m\u001b[0;34m[\u001b[0m\u001b[0;34m'save_H'\u001b[0m\u001b[0;34m]\u001b[0m\u001b[0;34m)\u001b[0m\u001b[0;34m)\u001b[0m\u001b[0;34m\u001b[0m\u001b[0m\n\u001b[0m\u001b[1;32m      5\u001b[0m     \u001b[0;32mif\u001b[0m \u001b[0mrun_pyNBS_params\u001b[0m\u001b[0;34m[\u001b[0m\u001b[0;34m'verbose'\u001b[0m\u001b[0;34m]\u001b[0m\u001b[0;34m:\u001b[0m\u001b[0;34m\u001b[0m\u001b[0m\n\u001b[1;32m      6\u001b[0m         \u001b[0;32mprint\u001b[0m \u001b[0;34m'NBS iteration:'\u001b[0m\u001b[0;34m,\u001b[0m \u001b[0mi\u001b[0m\u001b[0;34m+\u001b[0m\u001b[0;36m1\u001b[0m\u001b[0;34m,\u001b[0m \u001b[0;34m'complete:'\u001b[0m\u001b[0;34m,\u001b[0m \u001b[0mtime\u001b[0m\u001b[0;34m.\u001b[0m\u001b[0mtime\u001b[0m\u001b[0;34m(\u001b[0m\u001b[0;34m)\u001b[0m\u001b[0;34m-\u001b[0m\u001b[0mnetNMF_time\u001b[0m\u001b[0;34m,\u001b[0m \u001b[0;34m'seconds'\u001b[0m\u001b[0;34m\u001b[0m\u001b[0m\n",
      "\u001b[0;32m/cellar/users/t1jia/pyNBS/pyNBS/pyNBS_single.pyc\u001b[0m in \u001b[0;36mNBS_single\u001b[0;34m(sm_mat, options, propNet, propNet_kernel, regNet_glap, verbose, save_path)\u001b[0m\n\u001b[1;32m     90\u001b[0m                                                   \u001b[0mgamma_factor\u001b[0m\u001b[0;34m=\u001b[0m\u001b[0mNBS_options\u001b[0m\u001b[0;34m[\u001b[0m\u001b[0;34m'netNMF_gamma_factor'\u001b[0m\u001b[0;34m]\u001b[0m\u001b[0;34m,\u001b[0m \u001b[0mniter\u001b[0m\u001b[0;34m=\u001b[0m\u001b[0mNBS_options\u001b[0m\u001b[0;34m[\u001b[0m\u001b[0;34m'netNMF_niter'\u001b[0m\u001b[0;34m]\u001b[0m\u001b[0;34m,\u001b[0m\u001b[0;34m\u001b[0m\u001b[0m\n\u001b[1;32m     91\u001b[0m                                                   \u001b[0meps\u001b[0m\u001b[0;34m=\u001b[0m\u001b[0mNBS_options\u001b[0m\u001b[0;34m[\u001b[0m\u001b[0;34m'netNMF_eps'\u001b[0m\u001b[0;34m]\u001b[0m\u001b[0;34m,\u001b[0m \u001b[0merr_tol\u001b[0m\u001b[0;34m=\u001b[0m\u001b[0mNBS_options\u001b[0m\u001b[0;34m[\u001b[0m\u001b[0;34m'netNMF_err_tol'\u001b[0m\u001b[0;34m]\u001b[0m\u001b[0;34m,\u001b[0m\u001b[0;34m\u001b[0m\u001b[0m\n\u001b[0;32m---> 92\u001b[0;31m                                                   err_delta_tol=NBS_options['netNMF_err_delta_tol'], verbose=verbose, debug_mode=False)\n\u001b[0m\u001b[1;32m     93\u001b[0m \u001b[0;34m\u001b[0m\u001b[0m\n\u001b[1;32m     94\u001b[0m     \u001b[0;31m# Save netNMF Result\u001b[0m\u001b[0;34m\u001b[0m\u001b[0;34m\u001b[0m\u001b[0m\n",
      "\u001b[0;32m/cellar/users/t1jia/pyNBS/pyNBS/pyNBS_core.pyc\u001b[0m in \u001b[0;36mmixed_netNMF\u001b[0;34m(data, KNN_glap, k, W_init, H_init, gamma, update_gamma, gamma_factor, niter, eps, err_tol, err_delta_tol, verbose, debug_mode)\u001b[0m\n\u001b[1;32m    208\u001b[0m \u001b[0;34m\u001b[0m\u001b[0m\n\u001b[1;32m    209\u001b[0m         \u001b[0;31m# Update H\u001b[0m\u001b[0;34m\u001b[0m\u001b[0;34m\u001b[0m\u001b[0m\n\u001b[0;32m--> 210\u001b[0;31m         \u001b[0mH\u001b[0m \u001b[0;34m=\u001b[0m \u001b[0mnp\u001b[0m\u001b[0;34m.\u001b[0m\u001b[0marray\u001b[0m\u001b[0;34m(\u001b[0m\u001b[0;34m[\u001b[0m\u001b[0mnnls\u001b[0m\u001b[0;34m(\u001b[0m\u001b[0mW\u001b[0m\u001b[0;34m,\u001b[0m \u001b[0mdata\u001b[0m\u001b[0;34m[\u001b[0m\u001b[0;34m:\u001b[0m\u001b[0;34m,\u001b[0m\u001b[0mj\u001b[0m\u001b[0;34m]\u001b[0m\u001b[0;34m)\u001b[0m\u001b[0;34m[\u001b[0m\u001b[0;36m0\u001b[0m\u001b[0;34m]\u001b[0m \u001b[0;32mfor\u001b[0m \u001b[0mj\u001b[0m \u001b[0;32min\u001b[0m \u001b[0mrange\u001b[0m\u001b[0;34m(\u001b[0m\u001b[0mc\u001b[0m\u001b[0;34m)\u001b[0m\u001b[0;34m]\u001b[0m\u001b[0;34m)\u001b[0m\u001b[0;34m.\u001b[0m\u001b[0mT\u001b[0m\u001b[0;34m\u001b[0m\u001b[0m\n\u001b[0m\u001b[1;32m    211\u001b[0m         \u001b[0;31m# ^ Matan uses a custom fast non-negative least squares solver here, we will use scipy's implementation here\u001b[0m\u001b[0;34m\u001b[0m\u001b[0;34m\u001b[0m\u001b[0m\n\u001b[1;32m    212\u001b[0m         \u001b[0mH\u001b[0m\u001b[0;34m=\u001b[0m\u001b[0mnp\u001b[0m\u001b[0;34m.\u001b[0m\u001b[0mmaximum\u001b[0m\u001b[0;34m(\u001b[0m\u001b[0mH\u001b[0m\u001b[0;34m,\u001b[0m\u001b[0meps\u001b[0m\u001b[0;34m)\u001b[0m\u001b[0;34m\u001b[0m\u001b[0m\n",
      "\u001b[0;32m/cellar/users/t1jia/anaconda2/lib/python2.7/site-packages/scipy/optimize/nnls.pyc\u001b[0m in \u001b[0;36mnnls\u001b[0;34m(A, b)\u001b[0m\n\u001b[1;32m     38\u001b[0m     \"\"\"\n\u001b[1;32m     39\u001b[0m \u001b[0;34m\u001b[0m\u001b[0m\n\u001b[0;32m---> 40\u001b[0;31m     \u001b[0mA\u001b[0m\u001b[0;34m,\u001b[0m \u001b[0mb\u001b[0m \u001b[0;34m=\u001b[0m \u001b[0mmap\u001b[0m\u001b[0;34m(\u001b[0m\u001b[0masarray_chkfinite\u001b[0m\u001b[0;34m,\u001b[0m \u001b[0;34m(\u001b[0m\u001b[0mA\u001b[0m\u001b[0;34m,\u001b[0m \u001b[0mb\u001b[0m\u001b[0;34m)\u001b[0m\u001b[0;34m)\u001b[0m\u001b[0;34m\u001b[0m\u001b[0m\n\u001b[0m\u001b[1;32m     41\u001b[0m \u001b[0;34m\u001b[0m\u001b[0m\n\u001b[1;32m     42\u001b[0m     \u001b[0;32mif\u001b[0m \u001b[0mlen\u001b[0m\u001b[0;34m(\u001b[0m\u001b[0mA\u001b[0m\u001b[0;34m.\u001b[0m\u001b[0mshape\u001b[0m\u001b[0;34m)\u001b[0m \u001b[0;34m!=\u001b[0m \u001b[0;36m2\u001b[0m\u001b[0;34m:\u001b[0m\u001b[0;34m\u001b[0m\u001b[0m\n",
      "\u001b[0;32m/cellar/users/t1jia/anaconda2/lib/python2.7/site-packages/numpy/lib/function_base.pyc\u001b[0m in \u001b[0;36masarray_chkfinite\u001b[0;34m(a, dtype, order)\u001b[0m\n\u001b[1;32m   1213\u001b[0m     \u001b[0;32mif\u001b[0m \u001b[0ma\u001b[0m\u001b[0;34m.\u001b[0m\u001b[0mdtype\u001b[0m\u001b[0;34m.\u001b[0m\u001b[0mchar\u001b[0m \u001b[0;32min\u001b[0m \u001b[0mtypecodes\u001b[0m\u001b[0;34m[\u001b[0m\u001b[0;34m'AllFloat'\u001b[0m\u001b[0;34m]\u001b[0m \u001b[0;32mand\u001b[0m \u001b[0;32mnot\u001b[0m \u001b[0mnp\u001b[0m\u001b[0;34m.\u001b[0m\u001b[0misfinite\u001b[0m\u001b[0;34m(\u001b[0m\u001b[0ma\u001b[0m\u001b[0;34m)\u001b[0m\u001b[0;34m.\u001b[0m\u001b[0mall\u001b[0m\u001b[0;34m(\u001b[0m\u001b[0;34m)\u001b[0m\u001b[0;34m:\u001b[0m\u001b[0;34m\u001b[0m\u001b[0m\n\u001b[1;32m   1214\u001b[0m         raise ValueError(\n\u001b[0;32m-> 1215\u001b[0;31m             \"array must not contain infs or NaNs\")\n\u001b[0m\u001b[1;32m   1216\u001b[0m     \u001b[0;32mreturn\u001b[0m \u001b[0ma\u001b[0m\u001b[0;34m\u001b[0m\u001b[0m\n\u001b[1;32m   1217\u001b[0m \u001b[0;34m\u001b[0m\u001b[0m\n",
      "\u001b[0;31mValueError\u001b[0m: array must not contain infs or NaNs"
     ]
    }
   ],
   "source": [
    "Hlist = []\n",
    "for i in range(run_pyNBS_params['niter']):\n",
    "    netNMF_time = time.time()\n",
    "    Hlist.append(pyNBS_single.NBS_single(sm_mat, NBS_options, propNet=network, propNet_kernel=kernel, regNet_glap=knnGlap, verbose=False, save_path=run_pyNBS_params['save_H']))\n",
    "    if run_pyNBS_params['verbose']:\n",
    "        print 'NBS iteration:', i+1, 'complete:', time.time()-netNMF_time, 'seconds'\n"
   ]
  },
  {
   "cell_type": "markdown",
   "metadata": {},
   "source": [
    "### Consensus Clustering"
   ]
  },
  {
   "cell_type": "code",
   "execution_count": 64,
   "metadata": {},
   "outputs": [
    {
     "ename": "ValueError",
     "evalue": "The number of observations cannot be determined on an empty distance matrix.",
     "output_type": "error",
     "traceback": [
      "\u001b[0;31m---------------------------------------------------------------------------\u001b[0m",
      "\u001b[0;31mValueError\u001b[0m                                Traceback (most recent call last)",
      "\u001b[0;32m<ipython-input-64-a204a4ae8556>\u001b[0m in \u001b[0;36m<module>\u001b[0;34m()\u001b[0m\n\u001b[1;32m      1\u001b[0m \u001b[0;32mif\u001b[0m \u001b[0mrun_pyNBS_params\u001b[0m\u001b[0;34m[\u001b[0m\u001b[0;34m'consensus_cluster'\u001b[0m\u001b[0;34m]\u001b[0m\u001b[0;34m:\u001b[0m\u001b[0;34m\u001b[0m\u001b[0m\n\u001b[0;32m----> 2\u001b[0;31m     \u001b[0mNBS_cc_table\u001b[0m\u001b[0;34m,\u001b[0m \u001b[0mNBS_cc_linkage\u001b[0m\u001b[0;34m,\u001b[0m \u001b[0mNBS_cluster_assign\u001b[0m \u001b[0;34m=\u001b[0m \u001b[0mcc\u001b[0m\u001b[0;34m.\u001b[0m\u001b[0mconsensus_hclust_hard\u001b[0m\u001b[0;34m(\u001b[0m\u001b[0mHlist\u001b[0m\u001b[0;34m,\u001b[0m \u001b[0mNBS_options\u001b[0m\u001b[0;34m[\u001b[0m\u001b[0;34m'netNMF_k'\u001b[0m\u001b[0;34m]\u001b[0m\u001b[0;34m,\u001b[0m \u001b[0massign_cluster\u001b[0m\u001b[0;34m=\u001b[0m\u001b[0mrun_pyNBS_params\u001b[0m\u001b[0;34m[\u001b[0m\u001b[0;34m'assign_clusters'\u001b[0m\u001b[0;34m]\u001b[0m\u001b[0;34m)\u001b[0m\u001b[0;34m\u001b[0m\u001b[0m\n\u001b[0m\u001b[1;32m      3\u001b[0m     \u001b[0;32mif\u001b[0m \u001b[0mrun_pyNBS_params\u001b[0m\u001b[0;34m[\u001b[0m\u001b[0;34m'verbose'\u001b[0m\u001b[0;34m]\u001b[0m\u001b[0;34m:\u001b[0m\u001b[0;34m\u001b[0m\u001b[0m\n\u001b[1;32m      4\u001b[0m         \u001b[0;32mprint\u001b[0m \u001b[0;34m'Consensus Clustering complete'\u001b[0m\u001b[0;34m\u001b[0m\u001b[0m\n\u001b[1;32m      5\u001b[0m     \u001b[0;32mif\u001b[0m \u001b[0mrun_pyNBS_params\u001b[0m\u001b[0;34m[\u001b[0m\u001b[0;34m'save_co_cluster_matrix'\u001b[0m\u001b[0;34m]\u001b[0m \u001b[0;32mis\u001b[0m \u001b[0;32mnot\u001b[0m \u001b[0mNone\u001b[0m\u001b[0;34m:\u001b[0m\u001b[0;34m\u001b[0m\u001b[0m\n",
      "\u001b[0;32m/cellar/users/t1jia/pyNBS/pyNBS/consensus_clustering.pyc\u001b[0m in \u001b[0;36mconsensus_hclust_hard\u001b[0;34m(Hlist, k, assign_cluster, verbose)\u001b[0m\n\u001b[1;32m     60\u001b[0m     \u001b[0mcc_hard_sim_table\u001b[0m \u001b[0;34m=\u001b[0m \u001b[0mco_clust_table\u001b[0m\u001b[0;34m.\u001b[0m\u001b[0mastype\u001b[0m\u001b[0;34m(\u001b[0m\u001b[0mfloat\u001b[0m\u001b[0;34m)\u001b[0m\u001b[0;34m.\u001b[0m\u001b[0mdivide\u001b[0m\u001b[0;34m(\u001b[0m\u001b[0mcluster_count\u001b[0m\u001b[0;34m.\u001b[0m\u001b[0mastype\u001b[0m\u001b[0;34m(\u001b[0m\u001b[0mfloat\u001b[0m\u001b[0;34m)\u001b[0m\u001b[0;34m)\u001b[0m\u001b[0;34m.\u001b[0m\u001b[0mfillna\u001b[0m\u001b[0;34m(\u001b[0m\u001b[0;36m0\u001b[0m\u001b[0;34m)\u001b[0m\u001b[0;34m\u001b[0m\u001b[0m\n\u001b[1;32m     61\u001b[0m     \u001b[0mcc_hard_dist_table\u001b[0m \u001b[0;34m=\u001b[0m \u001b[0;36m1\u001b[0m\u001b[0;34m-\u001b[0m\u001b[0mcc_hard_sim_table\u001b[0m\u001b[0;34m\u001b[0m\u001b[0m\n\u001b[0;32m---> 62\u001b[0;31m     \u001b[0mZ\u001b[0m \u001b[0;34m=\u001b[0m \u001b[0mhclust\u001b[0m\u001b[0;34m.\u001b[0m\u001b[0mlinkage\u001b[0m\u001b[0;34m(\u001b[0m\u001b[0mdist\u001b[0m\u001b[0;34m.\u001b[0m\u001b[0msquareform\u001b[0m\u001b[0;34m(\u001b[0m\u001b[0mnp\u001b[0m\u001b[0;34m.\u001b[0m\u001b[0marray\u001b[0m\u001b[0;34m(\u001b[0m\u001b[0mcc_hard_dist_table\u001b[0m\u001b[0;34m)\u001b[0m\u001b[0;34m)\u001b[0m\u001b[0;34m,\u001b[0m \u001b[0mmethod\u001b[0m\u001b[0;34m=\u001b[0m\u001b[0;34m'average'\u001b[0m\u001b[0;34m)\u001b[0m\u001b[0;34m\u001b[0m\u001b[0m\n\u001b[0m\u001b[1;32m     63\u001b[0m     \u001b[0;32mif\u001b[0m \u001b[0massign_cluster\u001b[0m\u001b[0;34m:\u001b[0m\u001b[0;34m\u001b[0m\u001b[0m\n\u001b[1;32m     64\u001b[0m         \u001b[0mcluster_map\u001b[0m \u001b[0;34m=\u001b[0m \u001b[0mhclust\u001b[0m\u001b[0;34m.\u001b[0m\u001b[0mfcluster\u001b[0m\u001b[0;34m(\u001b[0m\u001b[0mZ\u001b[0m\u001b[0;34m,\u001b[0m \u001b[0mk\u001b[0m\u001b[0;34m,\u001b[0m \u001b[0mcriterion\u001b[0m\u001b[0;34m=\u001b[0m\u001b[0;34m'maxclust'\u001b[0m\u001b[0;34m)\u001b[0m\u001b[0;34m\u001b[0m\u001b[0m\n",
      "\u001b[0;32m/cellar/users/t1jia/anaconda2/lib/python2.7/site-packages/scipy/cluster/hierarchy.pyc\u001b[0m in \u001b[0;36mlinkage\u001b[0;34m(y, method, metric)\u001b[0m\n\u001b[1;32m    676\u001b[0m         \u001b[0;32mraise\u001b[0m \u001b[0mValueError\u001b[0m\u001b[0;34m(\u001b[0m\u001b[0;34m\"The condensed distance matrix must contain only finite values.\"\u001b[0m\u001b[0;34m)\u001b[0m\u001b[0;34m\u001b[0m\u001b[0m\n\u001b[1;32m    677\u001b[0m \u001b[0;34m\u001b[0m\u001b[0m\n\u001b[0;32m--> 678\u001b[0;31m     \u001b[0mn\u001b[0m \u001b[0;34m=\u001b[0m \u001b[0mint\u001b[0m\u001b[0;34m(\u001b[0m\u001b[0mdistance\u001b[0m\u001b[0;34m.\u001b[0m\u001b[0mnum_obs_y\u001b[0m\u001b[0;34m(\u001b[0m\u001b[0my\u001b[0m\u001b[0;34m)\u001b[0m\u001b[0;34m)\u001b[0m\u001b[0;34m\u001b[0m\u001b[0m\n\u001b[0m\u001b[1;32m    679\u001b[0m     \u001b[0mmethod_code\u001b[0m \u001b[0;34m=\u001b[0m \u001b[0m_LINKAGE_METHODS\u001b[0m\u001b[0;34m[\u001b[0m\u001b[0mmethod\u001b[0m\u001b[0;34m]\u001b[0m\u001b[0;34m\u001b[0m\u001b[0m\n\u001b[1;32m    680\u001b[0m     \u001b[0;32mif\u001b[0m \u001b[0mmethod\u001b[0m \u001b[0;34m==\u001b[0m \u001b[0;34m'single'\u001b[0m\u001b[0;34m:\u001b[0m\u001b[0;34m\u001b[0m\u001b[0m\n",
      "\u001b[0;32m/cellar/users/t1jia/anaconda2/lib/python2.7/site-packages/scipy/spatial/distance.pyc\u001b[0m in \u001b[0;36mnum_obs_y\u001b[0;34m(Y)\u001b[0m\n\u001b[1;32m   1810\u001b[0m     \u001b[0mk\u001b[0m \u001b[0;34m=\u001b[0m \u001b[0mY\u001b[0m\u001b[0;34m.\u001b[0m\u001b[0mshape\u001b[0m\u001b[0;34m[\u001b[0m\u001b[0;36m0\u001b[0m\u001b[0;34m]\u001b[0m\u001b[0;34m\u001b[0m\u001b[0m\n\u001b[1;32m   1811\u001b[0m     \u001b[0;32mif\u001b[0m \u001b[0mk\u001b[0m \u001b[0;34m==\u001b[0m \u001b[0;36m0\u001b[0m\u001b[0;34m:\u001b[0m\u001b[0;34m\u001b[0m\u001b[0m\n\u001b[0;32m-> 1812\u001b[0;31m         raise ValueError(\"The number of observations cannot be determined on \"\n\u001b[0m\u001b[1;32m   1813\u001b[0m                          \"an empty distance matrix.\")\n\u001b[1;32m   1814\u001b[0m     \u001b[0md\u001b[0m \u001b[0;34m=\u001b[0m \u001b[0mint\u001b[0m\u001b[0;34m(\u001b[0m\u001b[0mnp\u001b[0m\u001b[0;34m.\u001b[0m\u001b[0mceil\u001b[0m\u001b[0;34m(\u001b[0m\u001b[0mnp\u001b[0m\u001b[0;34m.\u001b[0m\u001b[0msqrt\u001b[0m\u001b[0;34m(\u001b[0m\u001b[0mk\u001b[0m \u001b[0;34m*\u001b[0m \u001b[0;36m2\u001b[0m\u001b[0;34m)\u001b[0m\u001b[0;34m)\u001b[0m\u001b[0;34m)\u001b[0m\u001b[0;34m\u001b[0m\u001b[0m\n",
      "\u001b[0;31mValueError\u001b[0m: The number of observations cannot be determined on an empty distance matrix."
     ]
    }
   ],
   "source": [
    "if run_pyNBS_params['consensus_cluster']:\n",
    "    NBS_cc_table, NBS_cc_linkage, NBS_cluster_assign = cc.consensus_hclust_hard(Hlist, NBS_options['netNMF_k'], assign_cluster=run_pyNBS_params['assign_clusters'])\n",
    "    if run_pyNBS_params['verbose']:\n",
    "        print 'Consensus Clustering complete'        \n",
    "    if run_pyNBS_params['save_co_cluster_matrix'] is not None:\n",
    "        NBS_cc_table.to_csv(run_pyNBS_params['save_co_cluster_matrix'])\n",
    "        if run_pyNBS_params['verbose']:\n",
    "            print 'Co-clustering matrix saved'\n",
    "    if run_pyNBS_params['save_cluster_assignments'] is not None:\n",
    "        NBS_cluster_assign.to_csv(run_pyNBS_params['save_cluster_assignments'])\n",
    "        if run_pyNBS_params['verbose']:\n",
    "            print 'Cluster assignments saved'\n"
   ]
  },
  {
   "cell_type": "code",
   "execution_count": null,
   "metadata": {
    "collapsed": true
   },
   "outputs": [],
   "source": []
  }
 ],
 "metadata": {
  "kernelspec": {
   "display_name": "Python 2",
   "language": "python",
   "name": "python2"
  },
  "language_info": {
   "codemirror_mode": {
    "name": "ipython",
    "version": 2
   },
   "file_extension": ".py",
   "mimetype": "text/x-python",
   "name": "python",
   "nbconvert_exporter": "python",
   "pygments_lexer": "ipython2",
   "version": "2.7.13"
  }
 },
 "nbformat": 4,
 "nbformat_minor": 2
}
