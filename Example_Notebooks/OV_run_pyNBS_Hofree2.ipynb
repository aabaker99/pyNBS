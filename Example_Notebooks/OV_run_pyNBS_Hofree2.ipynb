{
 "cells": [
  {
   "cell_type": "code",
   "execution_count": 1,
   "metadata": {
    "collapsed": true
   },
   "outputs": [],
   "source": [
    "from pyNBS import data_import_tools as dit\n",
    "from pyNBS import network_propagation as prop\n",
    "from pyNBS import pyNBS_core as core\n",
    "from pyNBS import pyNBS_single\n",
    "from pyNBS import consensus_clustering as cc\n",
    "from pyNBS import pyNBS_plotting as plot\n",
    "from sklearn.metrics.cluster import adjusted_mutual_info_score, adjusted_rand_score\n",
    "import time\n",
    "import networkx as nx\n",
    "import pandas as pd\n",
    "import numpy as np\n",
    "from IPython.display import Image"
   ]
  },
  {
   "cell_type": "markdown",
   "metadata": {},
   "source": [
    "# Load Data"
   ]
  },
  {
   "cell_type": "markdown",
   "metadata": {},
   "source": [
    "#### Load non-default parameters\n",
    "Notes about the parameter file:\n",
    " - If no parameter path is given, default parameters will be set instead (see documentation for details and default values). \n",
    " - The parameter file is a 2-column comma-separated text file where the first column is the parameter name, and the second column is the parameter value. The delimiter for this file must be a comma. \n",
    " - Blank lines and lines starting with \"#\" will be ignored.\n",
    " - The parameter file may include as many or as few of the parameters from the pyNBS overall parameter space. For examples of two parameter files see: ```./OV_run_pyNBS_Hofree_params.csv``` VS ```./run_pyNBS_default_params.csv```\n",
    " \n",
    " \n",
    "An excerpt of the the default parameters file is given below:  \n",
    "```\n",
    "################################  \n",
    "#   Overall pyNBS parameters   #  \n",
    "################################  \n",
    "verbose,True  \n",
    "outdir,./Results/  \n",
    "  \n",
    "###############################  \n",
    "#   Data Loading Parameters   #  \n",
    "###############################  \n",
    "net_filedelim,\"\t\"  \n",
    "mut_filetype,matrix  \n",
    "mut_filedelim,\",\"  \n",
    "degree_preserved_shuffle,False  \n",
    "node_label_shuffle,False  \n",
    "```"
   ]
  },
  {
   "cell_type": "code",
   "execution_count": 2,
   "metadata": {
    "collapsed": false
   },
   "outputs": [],
   "source": [
    "pyNBS_params = dit.load_params(params_file='./OV_run_pyNBS_Hofree_params.csv')"
   ]
  },
  {
   "cell_type": "markdown",
   "metadata": {},
   "source": [
    "#### Load molecular network\n",
    "The network file is a 2-column text file representing an unweighted network. Each row represents a single edge in the molecular network.    \n",
    "  \n",
    "Notes about the network file:  \n",
    " - The default column delimiter is a tab character '\\t' but a different delimiter can be defined by the user here or in the parameter file with the \"net_filedelim\" parameter.\n",
    " - The network must not contain duplicate edges (e.g. TP53\\tMDM2 is equivalent to MDM2\\tTP53)\n",
    " - The network must not contain self-edges (e.g. TP53\\tTP53)\n",
    " - Only the first two columns of a network file are read as edges for the network, all other columns will be ignored.\n",
    " - The load_network function also includes options to read in edge- or label-shuffled versions of the network, but by default, these options are turned off.\n",
    " \n",
    "An excerpt of the first five rows of the PID network file is given below:  \n",
    "```\n",
    "A1BG\tA2M\n",
    "A1BG\tAKT1\n",
    "A1BG\tGRB2\n",
    "A1BG\tPIK3CA\n",
    "A1BG\tPIK3R1\n",
    "```"
   ]
  },
  {
   "cell_type": "code",
   "execution_count": 3,
   "metadata": {
    "collapsed": false
   },
   "outputs": [
    {
     "name": "stdout",
     "output_type": "stream",
     "text": [
      "Network File Loaded: ./Example_Notebook_Data/Network_Files/HM90.sif\n"
     ]
    }
   ],
   "source": [
    "# The only required parameter here is the network file path, it may be defined by the user in the parameter file\n",
    "# or explicitly here.\n",
    "network_filepath = pyNBS_params['network_file']\n",
    "network = dit.load_network_file(network_filepath, verbose=pyNBS_params['verbose'])"
   ]
  },
  {
   "cell_type": "markdown",
   "metadata": {},
   "source": [
    "#### Load binary somatic mutation data\n",
    "The binary somatic mutation data file can be represented in two file formats:  \n",
    "The ```matrix``` binary somatic mutation data format. This file format is a binary csv or tsv matrix with rows represent samples/patients and columns represent genes.  The following table is a small excerpt of a matrix somatic mutation data file:  \n",
    "\n",
    "||A1CF|A2BP1|A2M|\n",
    "|-|-|-|-|\n",
    "|TCGA-04-1638|0|0|1|\n",
    "|TCGA-23-1029|1|0|0|\n",
    "|TCGA-23-2647|0|1|0|\n",
    "|TCGA-24-1847|0|0|1|\n",
    "|TCGA-42-2589|1|0|0|\n",
    "\n",
    "The ```list``` binary somatic mutation data format. This file format is a 2-column csv or tsv list where the 1st column is a sample/patient and the 2nd column is a gene mutated in the sample/patient. There are no headers in this file format. Loading data with the list format is typically faster than loading data from the matrix format.The following text is the list representation of the matrix above.\n",
    "```\n",
    "TCGA-04-1638\tA2M\n",
    "TCGA-23-1029\tA1CF\n",
    "TCGA-23-2647\tA2BP1\n",
    "TCGA-24-1847\tA2M\n",
    "TCGA-42-2589\tA1CF\n",
    "```"
   ]
  },
  {
   "cell_type": "code",
   "execution_count": 5,
   "metadata": {
    "collapsed": false
   },
   "outputs": [
    {
     "name": "stdout",
     "output_type": "stream",
     "text": [
      "Binary Mutation Matrix Loaded: ./Example_Notebook_Data/Mutation_Files/OV_sm_mat_Hofree.csv\n"
     ]
    }
   ],
   "source": [
    "# The only required parameter here is the somatic mutation data file path, it may be defined by the user in the \n",
    "# parameter file or explicitly here.\n",
    "sm_data_filepath = pyNBS_params['sm_data_file']\n",
    "sm_mat = dit.load_binary_mutation_data(sm_data_filepath, \n",
    "                                       filetype=pyNBS_params['mut_filetype'], \n",
    "                                       delimiter=pyNBS_params['mut_filedelim'], \n",
    "                                       verbose=pyNBS_params['verbose'])"
   ]
  },
  {
   "cell_type": "code",
   "execution_count": null,
   "metadata": {
    "collapsed": false
   },
   "outputs": [],
   "source": []
  },
  {
   "cell_type": "code",
   "execution_count": null,
   "metadata": {
    "collapsed": false
   },
   "outputs": [],
   "source": []
  },
  {
   "cell_type": "code",
   "execution_count": null,
   "metadata": {
    "collapsed": true
   },
   "outputs": [],
   "source": []
  }
 ],
 "metadata": {
  "kernelspec": {
   "display_name": "Python 2",
   "language": "python",
   "name": "python2"
  },
  "language_info": {
   "codemirror_mode": {
    "name": "ipython",
    "version": 2
   },
   "file_extension": ".py",
   "mimetype": "text/x-python",
   "name": "python",
   "nbconvert_exporter": "python",
   "pygments_lexer": "ipython2",
   "version": "2.7.11"
  }
 },
 "nbformat": 4,
 "nbformat_minor": 0
}
